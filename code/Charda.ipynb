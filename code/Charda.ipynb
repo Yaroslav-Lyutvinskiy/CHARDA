{
 "cells": [
  {
   "cell_type": "markdown",
   "id": "collective-invalid",
   "metadata": {},
   "source": [
    "# CHARDA - Charge determination analysis"
   ]
  },
  {
   "cell_type": "code",
   "execution_count": 1,
   "id": "amazing-guess",
   "metadata": {},
   "outputs": [],
   "source": [
    "import numpy as np\n",
    "from numpy.fft import *\n",
    "import matplotlib.pyplot as plt\n",
    "import matplotlib.ticker as ticker\n",
    "from matplotlib.collections import LineCollection\n",
    "from matplotlib.colors import ListedColormap, BoundaryNorm\n",
    "import matplotlib.colors\n",
    "import pandas as pd\n",
    "import scipy.signal as ss\n",
    "from scipy import stats\n",
    "from sklearn import linear_model\n",
    "from sklearn.linear_model import LogisticRegression\n",
    "from sklearn.preprocessing import StandardScaler\n",
    "from sklearn.metrics import mean_squared_error, r2_score\n",
    "from sklearn.model_selection import KFold\n",
    "from scipy import interpolate\n",
    "from pyopenms import * \n",
    "from configobj import ConfigObj\n",
    "import subprocess\n",
    "import os\n",
    "import IsoSpecPy\n",
    "import h5py\n",
    "import jdc\n",
    "import warnings\n",
    "from pandas.core.common import SettingWithCopyWarning\n",
    "from tqdm.notebook import trange, tqdm\n",
    "\n",
    "%matplotlib inline"
   ]
  },
  {
   "cell_type": "code",
   "execution_count": 2,
   "id": "8e03bd42",
   "metadata": {},
   "outputs": [],
   "source": [
    "warnings.simplefilter(action=\"ignore\", category=SettingWithCopyWarning)"
   ]
  },
  {
   "cell_type": "code",
   "execution_count": 3,
   "id": "b0d87c13",
   "metadata": {},
   "outputs": [],
   "source": [
    "C13_Shift=1.0033548\n",
    "Proton=1.0072764666"
   ]
  },
  {
   "cell_type": "markdown",
   "id": "90f6e55c",
   "metadata": {},
   "source": [
    "# Transient spectrum class "
   ]
  },
  {
   "cell_type": "markdown",
   "id": "e5c7caf7",
   "metadata": {},
   "source": [
    "## Init and clean up"
   ]
  },
  {
   "cell_type": "code",
   "execution_count": 4,
   "id": "b61a3bda",
   "metadata": {},
   "outputs": [],
   "source": [
    "class TransSpectrum:\n",
    "    def __init__(self, TransData, name=\"Spectrum\", build=True):\n",
    "        self.trans = TransData\n",
    "        self.name = name\n",
    "        self.QuantFreq=3906250.0\n",
    "        self.__A=2.11763959697e+14\n",
    "        self.InitDeps()\n",
    "        if build :\n",
    "            self.MakeSpectrum()\n",
    "            self.HalfSpecs()\n",
    "            \n",
    "    #Charnge calibration constant\n",
    "    @property \n",
    "    def A(self):\n",
    "        return self.__A\n",
    "    \n",
    "    @A.setter\n",
    "    def A(self,A):\n",
    "        self.__A=A\n",
    "        self.InitDeps()\n",
    "        self.MakeSpectrum()\n",
    "        self.HalfSpecs()\n",
    "        \n",
    "    #initialize dependent arrays and variables\n",
    "    def InitDeps(self):\n",
    "        #Length of transient\n",
    "        self.TrLen = len(self.trans)\n",
    "        #Apodization arrays \n",
    "        #For full spectrum \n",
    "        self.KaiserArray=np.kaiser(self.TrLen,np.pi*3)\n",
    "        #For half spectrum \n",
    "        self.KaiArray2=np.kaiser(self.TrLen//2,np.pi*3) #may migrate to half arrays\n",
    "        #calibration array\n",
    "        cscale=np.arange(self.TrLen)\n",
    "        cscale[0]=1 #to avoid division by zero\n",
    "        self.calib=self.A/np.square(cscale/(self.TrLen/self.QuantFreq))\n",
    "        self.spaceX=np.linspace(800500.,3999500.,3200)\n",
    "        \n",
    "    def declb(self, mass):\n",
    "        return (np.sqrt(self.A)*self.TrLen)/(np.sqrt(mass)*self.QuantFreq)"
   ]
  },
  {
   "cell_type": "markdown",
   "id": "1740217b",
   "metadata": {},
   "source": [
    "## Make spectrum"
   ]
  },
  {
   "cell_type": "code",
   "execution_count": 5,
   "id": "34356e46",
   "metadata": {},
   "outputs": [],
   "source": [
    "%%add_to TransSpectrum\n",
    "def MakeSpectrum(self):\n",
    "    self.SpecKai=fft(self.trans*self.KaiserArray)\n",
    "    self.MagnKai=np.sqrt(self.SpecKai.real*self.SpecKai.real+self.SpecKai.imag*self.SpecKai.imag)"
   ]
  },
  {
   "cell_type": "code",
   "execution_count": 6,
   "id": "bcfd3ac7",
   "metadata": {},
   "outputs": [],
   "source": [
    "%%add_to TransSpectrum\n",
    "def HalfSpecs(self):\n",
    "    tr1=self.trans[:len(self.trans)//2]*self.KaiArray2\n",
    "    tr2=self.trans[len(self.trans)//2:]*self.KaiArray2\n",
    "    sp1=fft(tr1)\n",
    "    sp2=fft(tr2)\n",
    "    self.m1=np.sqrt(sp1.real*sp1.real+sp1.imag*sp1.imag)\n",
    "    self.m2=np.sqrt(sp2.real*sp2.real+sp2.imag*sp2.imag)"
   ]
  },
  {
   "cell_type": "code",
   "execution_count": 7,
   "id": "3e8b27df",
   "metadata": {},
   "outputs": [],
   "source": [
    "%%add_to TransSpectrum\n",
    "def SaveTransient(self, FileName):\n",
    "    tfile=open(FileName,\"w\")\n",
    "    tfile.write(\"{}\\n\".format(self.A))\n",
    "    tfile.write(\"{}\\n\".format(self.QuantFreq))\n",
    "    np.savetxt(tfile,self.trans,fmt=\"%f\")\n",
    "    tfile.close()"
   ]
  },
  {
   "cell_type": "markdown",
   "id": "2fec078c",
   "metadata": {},
   "source": [
    "## Display Spectra"
   ]
  },
  {
   "cell_type": "code",
   "execution_count": 8,
   "id": "0054d815",
   "metadata": {},
   "outputs": [],
   "source": [
    "%%add_to TransSpectrum\n",
    "def plotmasskai(self, minMass,maxMass,*args,PlotTo=None,labels=[],fname=None):\n",
    "    if PlotTo is None:\n",
    "        fig, ax = plt.subplots()\n",
    "    else:\n",
    "        ax = PlotTo\n",
    "    #ax.get_xaxis().get_major_formatter().set_useOffset(False)\n",
    "    #ax.get_yaxis().get_major_formatter().set_useOffset(False)\n",
    "    ax.xaxis.set_major_formatter(ticker.FormatStrFormatter('%0.3f'))\n",
    "    ax.yaxis.set_major_formatter(ticker.FormatStrFormatter('%0.1e'))\n",
    "    ax.locator_params(axis='x',nbins=6)\n",
    "    ax.set_xlabel(\"m/z\")\n",
    "    ax.set_ylabel(\"Abundance, orb. units\")\n",
    "    ax.spines[\"top\"].set_visible(False)\n",
    "    ax.spines[\"right\"].set_visible(False)        \n",
    "    ax.plot(self.calib[int(np.round(self.declb(maxMass))):int(np.round(self.declb(minMass)))+1],\n",
    "            self.MagnKai[int(np.round(self.declb(maxMass))):int(np.round(self.declb(minMass)))+1],*args)\n",
    "    #ax.plot(calib[int(np.round(declb(maxMass))):int(np.round(declb(minMass)))+1],\n",
    "    #        MagnKai_std[int(np.round(declb(maxMass))):int(np.round(declb(minMass)))+1],*args)\n",
    "    if len(labels)>0 :\n",
    "        for mz,n in labels:\n",
    "            if type(n)==float:\n",
    "                ax.annotate(\"{:.2f}\".format(n),(mz,self.MagnKai[int(np.round(self.declb(mz)))]),textcoords=\"offset points\",xytext=(0,10),ha='center' )\n",
    "            else:    \n",
    "                ax.annotate(n,(mz,self.MagnKai[int(np.round(self.declb(mz)))]),textcoords=\"offset points\",xytext=(0,10),ha='center' )\n",
    "    if fname is not None:\n",
    "        plt.savefig(fname)\n",
    "    if PlotTo is None:\n",
    "        plt.show()\n",
    "        return plt\n",
    "    else:\n",
    "        return PlotTo"
   ]
  },
  {
   "cell_type": "markdown",
   "id": "ff369add",
   "metadata": {},
   "source": [
    "## Process Spectrum"
   ]
  },
  {
   "cell_type": "code",
   "execution_count": 9,
   "id": "6adfb2cc",
   "metadata": {},
   "outputs": [],
   "source": [
    "%%add_to TransSpectrum\n",
    "def spratio(self,center,points):\n",
    "    centerf=int(np.round(((np.sqrt(self.A)*len(self.m1))/(np.sqrt(center)*self.QuantFreq))))\n",
    "    minsp=centerf-points\n",
    "    maxsp=centerf+points\n",
    "    s1sum=np.sum(self.m1[minsp:maxsp+1])\n",
    "    s2sum=np.sum(self.m2[minsp:maxsp+1])\n",
    "    return s1sum/s2sum               "
   ]
  },
  {
   "cell_type": "markdown",
   "id": "260121ee",
   "metadata": {},
   "source": [
    "## Processing Functions"
   ]
  },
  {
   "cell_type": "markdown",
   "id": "ab8d0fd9",
   "metadata": {},
   "source": [
    "### Spectra and peaks"
   ]
  },
  {
   "cell_type": "code",
   "execution_count": 10,
   "id": "f5e5a120",
   "metadata": {},
   "outputs": [],
   "source": [
    "%%add_to TransSpectrum\n",
    "def PeakPick(self,minMass,maxMass,sn=1.):\n",
    "    self.peaks = None\n",
    "    pp=PeakPickerHiRes()\n",
    "    par=pp.getParameters()\n",
    "    par.setValue('report_FWHM','true')\n",
    "    par.setValue('signal_to_noise',sn)\n",
    "    pp.setParameters(par)\n",
    "    spectrum=MSSpectrum()\n",
    "    spectrum.set_peaks([np.flip(self.calib[int(self.declb(maxMass)):int(self.declb(minMass))]),\n",
    "                        np.flip(self.MagnKai[int(self.declb(maxMass)):int(self.declb(minMass))])])\n",
    "    picked=MSSpectrum()\n",
    "    pp.pick(spectrum, picked)\n",
    "    #FWHM in ppms\n",
    "    fda=picked.getFloatDataArrays()\n",
    "    #mzs, intensities\n",
    "    ppmz,ppints = picked.get_peaks()\n",
    "    self.peaks=pd.DataFrame({\"m/z\":ppmz,\"Intensity\":ppints,\"resolution\":1000000./fda[0].get_data()})\n",
    "    #return self.peaks"
   ]
  },
  {
   "cell_type": "markdown",
   "id": "1e478f78",
   "metadata": {},
   "source": [
    "### Hardklor and products"
   ]
  },
  {
   "cell_type": "code",
   "execution_count": 29,
   "id": "be107aa6",
   "metadata": {},
   "outputs": [],
   "source": [
    "class FullSpectrum(TransSpectrum):\n",
    "    def RunHardKlor(self, **kwargs):\n",
    "        hkconf=ConfigObj(\"hardklor_dump.conf\")\n",
    "        for key, value in kwargs.items():\n",
    "            hkconf[key]=value\n",
    "        newhkconf=open(\"hardklor.conf\",\"wb\") \n",
    "        hkconf.write(newhkconf)\n",
    "        newhkconf.write(\"temp.mzXML /code/temp.hk\".encode(\"ascii\"))\n",
    "        newhkconf.close()\n",
    "        spectrum=MSSpectrum()\n",
    "        spectrum.set_peaks([np.array(self.peaks[\"m/z\"]),np.array(self.peaks[\"Intensity\"])])\n",
    "        spectrum.setMSLevel(1)\n",
    "        spectrum.setRT(1.0)\n",
    "        spectrum.setName(\"1\")\n",
    "        spectrum.setType(2)\n",
    "        spectrum.updateRanges()\n",
    "        exp=MSExperiment()\n",
    "        exp.addSpectrum(spectrum)\n",
    "        mzFile=MzXMLFile()\n",
    "        Options=mzFile.getOptions()\n",
    "        Options.setForceMQCompatability(True)\n",
    "        mzFile.setOptions(Options)\n",
    "        mzFile.store(\"temp.mzXML\",exp)\n",
    "        subprocess.run([\"./hardklor\",\"hardklor.conf\"])\n",
    "        self.Clusters=pd.read_csv(\"temp.hk\",sep=\"\\t\",skiprows=1,names=[\"Mass\",\"Charge\",\"Abundance\",\"Base Peak\",\"Interval\",\"Correlation\"],\n",
    "                        usecols=[1,2,3,4,5,8])\n",
    "        #return self.Clusters\n",
    "    "
   ]
  },
  {
   "cell_type": "code",
   "execution_count": 12,
   "id": "b944554d",
   "metadata": {},
   "outputs": [],
   "source": [
    "def IonProducts(Clusters, sequence=None, ppm=10,Shift=0):\n",
    "    Clusters[\"Ions\"]=\"\"\n",
    "    Clusters[\"PPMError\"]=0.\n",
    "    Clusters[\"Shift\"]=0\n",
    "    Clusters[\"TheorMass\"]=0.\n",
    "    if isinstance(sequence,str):\n",
    "        sequence=AASequence.fromString(sequence)\n",
    "    ProductLabels=[\"a\",\"b\",\"c\",\"x\",\"y\",\"z\"]\n",
    "    coverSet=[[]]*(sequence.size()-1)\n",
    "    for i in range(1,sequence.size()-1):\n",
    "        bpart=sequence.getPrefix(i)\n",
    "        ypart=sequence.getSuffix(i)\n",
    "        amass=bpart.getMonoWeight(Residue.ResidueType.AIon,0)\n",
    "        bmass=bpart.getMonoWeight(Residue.ResidueType.BIon,0)\n",
    "        cmass=bpart.getMonoWeight(Residue.ResidueType.CIon,0)\n",
    "        xmass=ypart.getMonoWeight(Residue.ResidueType.XIon,0)\n",
    "        ymass=ypart.getMonoWeight(Residue.ResidueType.YIon,0)\n",
    "        zmass=ypart.getMonoWeight(Residue.ResidueType.ZIon,0)\n",
    "        products=[amass,bmass,cmass,xmass,ymass,zmass]\n",
    "        for label,product in zip(ProductLabels,products):\n",
    "            for Sh in range(-Shift,Shift+1):\n",
    "                Target=Clusters[Clusters[\"Mass\"].between(product+Sh*1.003355-(product*ppm/1000000),product+Sh*1.003355+(product*ppm/1000000))]\n",
    "                for row in Target.iterrows():\n",
    "                    Clusters.at[row[0],\"Ions\"]=\"{}{}\".format(label,i)\n",
    "                    Clusters.at[row[0],\"PPMError\"]=(Clusters.at[row[0],\"Mass\"]-product-Sh*1.003355)*1000000./product\n",
    "                    Clusters.at[row[0],\"Shift\"]=Sh\n",
    "                    Clusters.at[row[0],\"TheorMass\"]=product\n",
    "                    if label<\"d\":\n",
    "                        #print(\"{}{} {}+\".format(label,i,Clusters.at[row[0],\"Charge\"]))\n",
    "                        coverSet[i]=coverSet[i]+[\"{}{} {}+\".format(label,i,Clusters.at[row[0],\"Charge\"])]\n",
    "                    else:\n",
    "                        coverSet[sequence.size()-i]=coverSet[sequence.size()-i]+[\"{}{} {}+\".format(label,i,Clusters.at[row[0],\"Charge\"])]\n",
    "    counter=0\n",
    "    for i in range(sequence.size()-1):\n",
    "        if len(coverSet[i])>0 :\n",
    "            counter += 1\n",
    "    cover=counter/(sequence.size()-1)\n",
    "    return Clusters,coverSet,cover"
   ]
  },
  {
   "cell_type": "code",
   "execution_count": 13,
   "id": "8ed4c5b9",
   "metadata": {},
   "outputs": [],
   "source": [
    "%%add_to FullSpectrum\n",
    "def Products(self, sequence=None, ppm=10,Shift=0):\n",
    "    if sequence is None :\n",
    "        sequence = self.sequence\n",
    "    self.sequence = sequence\n",
    "    self.Clusters,coverSet,cover = IonProducts(self.Clusters,self.sequence,ppm,Shift)\n",
    "    return self.Clusters,coverSet,cover\n",
    "    "
   ]
  },
  {
   "cell_type": "markdown",
   "id": "a8e7556a",
   "metadata": {},
   "source": [
    "### Filtering and joining"
   ]
  },
  {
   "cell_type": "code",
   "execution_count": 14,
   "id": "406bbb4c",
   "metadata": {},
   "outputs": [],
   "source": [
    "%%add_to TransSpectrum\n",
    "def CheckIssues(self):\n",
    "    self.peaks[\"issues\"]=False\n",
    "    for i in range(len(self.peaks)):\n",
    "        mz=self.peaks.loc[i][\"m/z\"]\n",
    "        margin=self.calib[int(self.declb(mz))]-self.calib[int(self.declb(mz))+5]\n",
    "        diff=0\n",
    "        for j in range(i-1,0,-1):\n",
    "            diff=self.peaks.loc[i][\"m/z\"]-self.peaks.loc[j][\"m/z\"]\n",
    "            if diff>margin :\n",
    "                break\n",
    "            if self.peaks.loc[i][\"Intensity\"]/self.peaks.loc[j][\"Intensity\"]<5.0 :\n",
    "                margin=diff/2.0\n",
    "                self.peaks.at[i,'issues']=True\n",
    "        for j in range(i+1,len(self.peaks)):\n",
    "            diff=self.peaks.loc[j][\"m/z\"]-self.peaks.loc[i][\"m/z\"]\n",
    "            if diff>margin :\n",
    "                break\n",
    "            if self.peaks.loc[i][\"Intensity\"]/self.peaks.loc[j][\"Intensity\"]<5.0 :\n",
    "                margin=diff/2.0\n",
    "                self.peaks.at[i,'issues']=True\n",
    "    return self.peaks\n",
    "    #peaks.at[i,'left']=peaks.loc[i]['m/z']-margin        \n",
    "    #peaks.at[i,'right']=peaks.loc[i]['m/z']+margin            "
   ]
  },
  {
   "cell_type": "code",
   "execution_count": 15,
   "id": "ed7c22f2",
   "metadata": {},
   "outputs": [],
   "source": [
    "%%add_to FullSpectrum\n",
    "def PeakstoClusters(self):\n",
    "    links = 0\n",
    "    counter=0\n",
    "    for row in self.Clusters.iterrows():\n",
    "        #10 ppm acceptable error\n",
    "        ppms=row[1][\"Base Peak\"]/100000\n",
    "        #take peaks in 5 Da interval from MonoMZ (plus errors)\n",
    "        IntervPair=row[1].Interval.split('-')\n",
    "        localpeak=self.peaks[(self.peaks['m/z']>float(IntervPair[0])-ppms) & (self.peaks['m/z']<float(IntervPair[1])+ppms)]\n",
    "        #Mass difference to monoisotopic mass (not m/z!)\n",
    "        localpeak[\"rest\"]=(localpeak['m/z']-Proton)*row[1].Charge-row[1].Mass\n",
    "        #Isotope number\n",
    "        localpeak[\"Number\"]=np.round(localpeak[\"rest\"]/C13_Shift).astype(int)\n",
    "        #Mass shift from nearest isotope\n",
    "        localpeak.loc[:,[\"rest\"]]=localpeak[\"rest\"]-np.round(localpeak[\"rest\"])*C13_Shift\n",
    "        #Only peaks in acceptible error range from nearest Isotope allowed\n",
    "        localpeak=localpeak[np.abs(localpeak['rest'])<ppms*row[1].Charge]\n",
    "        #try to select consequent peaks\n",
    "        toGet=[]\n",
    "        #looking for consequtive peaks where most intense for isotope the same as most accurate \n",
    "        #high mass clusters (mass>20000) could be lost of low intensity first peaks\n",
    "        #processed from maximum peak back and forth - stops when intensity is growing \n",
    "        #most abundant isotope number \n",
    "        start=int((row[1][\"Base Peak\"]-Proton)*row[1][\"Charge\"]-row[1][\"Mass\"])\n",
    "        #print(start)\n",
    "        LastInt=1.e20\n",
    "        #print(localpeak)\n",
    "        for i in range(start,-1,-1):\n",
    "            lp=localpeak[localpeak[\"Number\"]==i]\n",
    "            #if isotope is not found\n",
    "            if len(lp) == 0 :\n",
    "                break\n",
    "            IntMax=lp[\"Intensity\"].idxmax()\n",
    "            RestMin=np.abs(lp[\"rest\"]).idxmin()\n",
    "            #if most accurate peak is not most intense\n",
    "            if IntMax!=RestMin:\n",
    "                break\n",
    "            #if next peak is more abundant \n",
    "            if lp.loc[IntMax][\"Intensity\"]>1.3*LastInt:\n",
    "                break\n",
    "            LastInt=lp.loc[IntMax][\"Intensity\"]\n",
    "            toGet.insert(0,IntMax)\n",
    "        LastInt=1.e20\n",
    "        for i in range(start,20):\n",
    "            lp=localpeak[localpeak[\"Number\"]==i]\n",
    "            #if isotope is not found\n",
    "            if len(lp) == 0 :\n",
    "                break\n",
    "            IntMax=lp[\"Intensity\"].idxmax()\n",
    "            RestMin=np.abs(lp[\"rest\"]).idxmin()\n",
    "            #if most accurate peak is not most intense\n",
    "            if IntMax!=RestMin:\n",
    "                break\n",
    "            #if next peak is more abundant \n",
    "            if lp.loc[IntMax][\"Intensity\"]>1.3*LastInt:\n",
    "                #print(lp.loc[IntMax][\"Intensity\"],LastInt)\n",
    "                break\n",
    "            LastInt=lp.loc[IntMax][\"Intensity\"]\n",
    "            toGet.append(IntMax)\n",
    "        toGet=list(set(toGet))\n",
    "        toGet.sort()\n",
    "        #print(toGet)\n",
    "        if toGet is None :\n",
    "            continue\n",
    "        localpeak=localpeak.loc[toGet]\n",
    "        link=pd.DataFrame({\"cluster\" :np.full(len(localpeak),row[0]),\n",
    "                           \"peak\" : localpeak.index,\n",
    "                           \"number\" : localpeak[\"Number\"],\n",
    "                           \"rest\" : localpeak[\"rest\"],\n",
    "                           \"intensity\" : localpeak[\"Intensity\"]})\n",
    "        #print(link)\n",
    "        if isinstance(links,int) :\n",
    "            links = link\n",
    "        else:\n",
    "            links=links.append(link)\n",
    "        counter+=1\n",
    "        #if counter>10:\n",
    "            #break\n",
    "    #print(links)\n",
    "    self.links = links\n",
    "    peaksref=self.peaks.join(self.links.set_index('peak'),how='inner')\n",
    "    self.RPeaks=peaksref.join(self.Clusters,how='inner',on='cluster',lsuffix='_peak')    \n",
    "    #return links"
   ]
  },
  {
   "cell_type": "code",
   "execution_count": null,
   "id": "6a5d5b33",
   "metadata": {},
   "outputs": [],
   "source": []
  },
  {
   "cell_type": "code",
   "execution_count": 16,
   "id": "f2ae3900",
   "metadata": {},
   "outputs": [],
   "source": [
    "%%add_to FullSpectrum\n",
    "def UsualProcessing(self):\n",
    "    self.PeakPick(250,2500)\n",
    "    self.CheckIssues()\n",
    "    self.RunHardKlor(charge_min=1,charge_max=30)\n",
    "    self.PeakstoClusters()"
   ]
  },
  {
   "cell_type": "markdown",
   "id": "ff73b260",
   "metadata": {},
   "source": [
    "### Reverse FFT"
   ]
  },
  {
   "cell_type": "code",
   "execution_count": 17,
   "id": "4f3096bb",
   "metadata": {},
   "outputs": [],
   "source": [
    "%%add_to TransSpectrum\n",
    "def taucalckai(self,minmass,maxmass,Print=False,Plot=None):\n",
    "    arr=np.zeros(self.TrLen,dtype=np.complex)\n",
    "    arr[int(np.round(self.declb(maxmass))):int(np.round(self.declb(minmass)))+1]=self.SpecKai[int(np.round(self.declb(maxmass))):int(np.round(self.declb(minmass)))+1]\n",
    "    arr[int(np.round(-self.declb(minmass))):-int(np.round(self.declb(maxmass)))+1]=self.SpecKai[int(np.round(-self.declb(minmass))):int(np.round(-self.declb(maxmass)))+1]\n",
    "    recsig=np.abs(ifft(arr)/self.KaiserArray)\n",
    "    env=[np.average(recsig[int(i)-500:int(i+500)].real) for i in self.spaceX]\n",
    "    s = stats.linregress(self.spaceX/self.QuantFreq,np.log(env))   \n",
    "    if Print :\n",
    "        if Plot is None:\n",
    "            fig, ax = plt.subplots()\n",
    "            ax.yaxis.set_major_formatter(ticker.FormatStrFormatter('%0.1e'))\n",
    "            ax.plot(self.spaceX/self.QuantFreq,env,label=\"signal envelope\")#np.log(env))\n",
    "            ax.plot(self.spaceX/self.QuantFreq,np.exp(s[0]*(self.spaceX/self.QuantFreq)+s[1]),label=\"exponent fit\")\n",
    "            ax.legend()\n",
    "            plt.show()\n",
    "        else:\n",
    "            Plot.plot(self.spaceX/self.QuantFreq,np.log(env))\n",
    "            Plot.plot(self.spaceX/self.QuantFreq,(self.spaceX/self.QuantFreq)*s[0]+s[1])\n",
    "    return s"
   ]
  },
  {
   "cell_type": "code",
   "execution_count": 18,
   "id": "123a4bca",
   "metadata": {},
   "outputs": [],
   "source": [
    "def FWHMCalc(Peaks):\n",
    "    Peaks[\"FWHM\"]=Peaks[\"m/z\"]/Peaks[\"resolution\"]\n",
    "    Peaks[\"FWHM Coeff\"]=np.power(Peaks[\"FWHM\"],0.6666)/(Peaks[\"m/z\"]*3.e-5)    \n",
    "    return Peaks"
   ]
  },
  {
   "cell_type": "code",
   "execution_count": 19,
   "id": "4f813814",
   "metadata": {
    "scrolled": true
   },
   "outputs": [],
   "source": [
    "%%add_to TransSpectrum\n",
    "def TDACalc(self,Peaks=pd.DataFrame()):\n",
    "    if Peaks.empty :\n",
    "        Peaks = self.RPeaks\n",
    "    \n",
    "    Peaks[\"Slope\"]=0.\n",
    "    Peaks[\"Intercept\"]=0.    \n",
    "    Peaks[\"RSquare\"]=0.\n",
    "    Peaks[\"Ratio\"]=0.0\n",
    "    Peaks = FWHMCalc(Peaks)\n",
    "    \n",
    "    Peaks.reset_index(drop=True,inplace=True)\n",
    "\n",
    "\n",
    "    for i in trange(len(Peaks)):\n",
    "        center=int(np.round(self.declb(Peaks.iloc[i][\"m/z\"])))\n",
    "        s=self.taucalckai(self.calib[center+5],self.calib[center-5])\n",
    "        Peaks.at[i,\"Slope\"]=s[0]\n",
    "        Peaks.at[i,\"Intercept\"]=s[1]    \n",
    "        Peaks.at[i,\"RSquare\"]=s[2]\n",
    "        Peaks.at[i,\"Ratio\"]=self.spratio(Peaks.iloc[i]['m/z'],5)\n",
    "    return Peaks"
   ]
  },
  {
   "cell_type": "markdown",
   "id": "c2589003",
   "metadata": {},
   "source": [
    "### Show resolution"
   ]
  },
  {
   "cell_type": "code",
   "execution_count": 20,
   "id": "8d489434",
   "metadata": {},
   "outputs": [],
   "source": [
    "colors=[\"black\",\"red\",\"orange\",\"xkcd:dandelion\",\"lime\",\"lightseagreen\",\"dodgerblue\",\"blue\",\"purple\",\\\n",
    "        \"black\",\"red\",\"orange\",\"xkcd:dandelion\",\"lime\",\"lightseagreen\",\"dodgerblue\",\"blue\",\"purple\",\\\n",
    "        \"black\",\"red\",\"orange\",\"xkcd:dandelion\",\"lime\",\"lightseagreen\",\"dodgerblue\",\"blue\",\"purple\",\\\n",
    "        \"black\",\"red\",\"orange\",\"xkcd:dandelion\",\"lime\",\"lightseagreen\",\"dodgerblue\",\"blue\",\"purple\",\\\n",
    "        \"black\",\"red\",\"orange\",\"xkcd:dandelion\",\"lime\",\"lightseagreen\",\"dodgerblue\",\"blue\",\"purple\"]"
   ]
  },
  {
   "cell_type": "code",
   "execution_count": 21,
   "id": "b0d7d099",
   "metadata": {},
   "outputs": [],
   "source": [
    "def ShowRes(Values,Charges,xlabel = \"Predicted Charge\",GaussianHeght=3,MinCharge=0,MaxCharge=0,fname=\"\"):\n",
    "    SigmaSum=0\n",
    "    Counter=0\n",
    "    if (MinCharge == 0):\n",
    "        MinCharge = int(np.min(Charges))\n",
    "    if (MaxCharge == 0):\n",
    "        MaxCharge = int(np.max(Charges))\n",
    "    MinValue = int(np.min(Values))\n",
    "    MaxValue = np.max(Values)\n",
    "    x = np.linspace(MinValue-(MaxValue-MinValue)/5.,MaxValue+(MaxValue-MinValue)/5.,200)\n",
    "    print(\"Charge \\tPeaks \\t Mean \\t Variance\")\n",
    "    for i in range(MinCharge,MaxCharge+1):\n",
    "        Slopes=Values[Charges==i]\n",
    "        if (len(Slopes)>=2):\n",
    "            Params=stats.norm.fit(Slopes)\n",
    "            print(\"{} \\t{} \\t{:6.3f} \\t{:6.3f}\".format(i,len(Slopes),Params[0],Params[1]))\n",
    "            SigmaSum=SigmaSum+Params[1]\n",
    "            Counter+=1\n",
    "            fitted = stats.norm.pdf(x,loc = Params[0],scale = Params[1])\n",
    "            fitted=(fitted/np.max(fitted))*GaussianHeght\n",
    "            plt.plot(x,fitted,colors[i],label=\"Charge \"+str(i)+\" fit\")\n",
    "        plt.hist(Slopes,x,facecolor=colors[i],alpha=0.5)\n",
    "    plt.legend()\n",
    "    plt.xlabel(xlabel)\n",
    "    if (fname!=\"\"):\n",
    "        plt.savefig(fname)\n",
    "    SigmaAve=SigmaSum/Counter\n",
    "    FWHM=SigmaAve*2.355\n",
    "    Res=MaxCharge/FWHM\n",
    "    #Res=(MaxValue-MinValue)/FWHM\n",
    "    print(\"Resolution: {:.2f}\".format(Res))"
   ]
  },
  {
   "cell_type": "markdown",
   "id": "f5a2114f",
   "metadata": {},
   "source": [
    "### Regression"
   ]
  },
  {
   "cell_type": "code",
   "execution_count": 22,
   "id": "c9cb0cab",
   "metadata": {},
   "outputs": [],
   "source": [
    "class Regression:\n",
    "    def __init__(self,FRes,NoMZ=False,FWHM=False,Slope=True):\n",
    "        self.NoMZ=NoMZ\n",
    "        self.FWHM=FWHM\n",
    "        self.Slope=Slope \n",
    "        self.X=self.FeatureExtraction(FRes)\n",
    "        self.Fit(self.X,FRes[\"Charge\"])\n",
    "        \n",
    "    def FeatureExtraction(self,FRes):\n",
    "        X=pd.DataFrame()\n",
    "        if self.Slope:\n",
    "            X[\"Slope\"]=FRes[\"Slope\"]\n",
    "            X[\"SlopelogIntens\"]=FRes[\"Slope\"]*np.log(FRes[\"Intensity\"])\n",
    "        X[\"LogRatio\"]=np.log(FRes[\"Ratio\"])\n",
    "        X[\"RatiologIntens\"]=np.log(FRes[\"Ratio\"])*np.log(FRes[\"Intensity\"])\n",
    "        if (not self.NoMZ):\n",
    "            if self.Slope:\n",
    "                X[\"SlopeMZ\"]=FRes[\"Slope\"]*FRes[\"m/z\"]\n",
    "            X[\"LogRatioMZ\"]=np.log(FRes[\"Ratio\"])*FRes[\"m/z\"]\n",
    "        if self.FWHM:\n",
    "            X[\"FWHM\"] = FRes[\"FWHM Coeff\"]\n",
    "        return X\n",
    "    \n",
    "    def Fit(self,X,Y):\n",
    "        return\n",
    "    \n",
    "    def Apply(self,FRes):\n",
    "        return\n",
    "    "
   ]
  },
  {
   "cell_type": "code",
   "execution_count": 23,
   "id": "b5839e77",
   "metadata": {},
   "outputs": [],
   "source": [
    "class LinearReg(Regression):\n",
    "    \n",
    "    def Fit(self,X,Y):\n",
    "        self.regr=linear_model.LinearRegression()\n",
    "        self.regr.fit(X,Y)\n",
    "\n",
    "    def Apply(self,FRes):\n",
    "        X=self.FeatureExtraction(FRes)\n",
    "        Y_pred=self.regr.predict(X)\n",
    "        return Y_pred        "
   ]
  },
  {
   "cell_type": "code",
   "execution_count": 24,
   "id": "d6ef0937",
   "metadata": {},
   "outputs": [],
   "source": [
    "def weighted_avg_and_std(values, weights):\n",
    "    average = np.average(values, weights=weights)\n",
    "    variance = np.average((values-average)**2, weights=weights)\n",
    "    return average, np.sqrt(variance)"
   ]
  },
  {
   "cell_type": "code",
   "execution_count": 25,
   "id": "2fa8d733",
   "metadata": {},
   "outputs": [],
   "source": [
    "class LogisticReg(Regression):\n",
    "    \n",
    "    def __init__(self,FRes,NoMZ=False,FWHM=False,Slope=True,ClassThres=3):\n",
    "        self.ClassThres = ClassThres\n",
    "        Classes=np.sort(FRes[\"Charge\"].unique())\n",
    "        Enough=[ np.count_nonzero(FRes[\"Charge\"]==n) >= ClassThres for n in Classes]\n",
    "        self.Classes = Classes[Enough]\n",
    "        FRes=FRes[np.isin(FRes[\"Charge\"],self.Classes)]\n",
    "        super().__init__(FRes,NoMZ,FWHM,Slope)\n",
    "        \n",
    "    def Fit(self,X,Y):\n",
    "        self.scaler=StandardScaler()\n",
    "        X_scaled=self.scaler.fit_transform(X)\n",
    "        self.lr=LogisticRegression(solver=\"newton-cg\" ,max_iter=100000, penalty=\"none\")\n",
    "        self.lr.fit(X_scaled,Y)\n",
    "        \n",
    "    def Apply(self,FRes):\n",
    "        X=self.FeatureExtraction(FRes)\n",
    "        X_scaled=self.scaler.transform(X)\n",
    "        Y_distr=self.lr.predict_proba(X_scaled)\n",
    "        Y=np.dot(Y_distr,self.Classes)\n",
    "        return Y,Y_distr        \n",
    "    \n",
    "    def Estimate(self,FRes):\n",
    "        Y,Y_distr=self.Apply(FRes)\n",
    "        FRes[\"Aver\"]=0.0\n",
    "        FRes[\"Sigma\"]=0.0\n",
    "        for i in range(len(Y_distr)):\n",
    "            FRes[\"Aver\"].iat[i],FRes[\"Sigma\"].iat[i]=weighted_avg_and_std(self.Classes,Y_distr[i])                \n",
    "        return FRes"
   ]
  },
  {
   "cell_type": "code",
   "execution_count": 26,
   "id": "a228ad1c",
   "metadata": {},
   "outputs": [],
   "source": [
    "class MassLogisticReg(LogisticReg):\n",
    "    \n",
    "    MassDistr=pd.read_csv(\"/data/StatBar.csv\",sep=\"\\t\")\n",
    "    \n",
    "    def Apply(self,FRes):\n",
    "        Y,Y_distr=super().Apply(FRes)\n",
    "        Y_mass_decay=np.copy(Y_distr)\n",
    "        for i in range(len(Y_distr)):\n",
    "            Y_mass_decay[i]=MassLogisticReg.MassDistr[\"0.2\"][((FRes.loc[i][\"m/z\"]-1.007276467)*self.Classes*100).astype(int)]*Y_distr[i]\n",
    "            Y_mass_decay[i]=Y_mass_decay[i]/np.sum(Y_mass_decay[i])\n",
    "        Y=np.dot(Y_mass_decay,self.Classes)\n",
    "        return Y,Y_mass_decay        "
   ]
  },
  {
   "cell_type": "markdown",
   "id": "6e740681",
   "metadata": {},
   "source": [
    "### Spectra visualization"
   ]
  },
  {
   "cell_type": "code",
   "execution_count": 27,
   "id": "0e1a8285",
   "metadata": {},
   "outputs": [],
   "source": [
    "%%add_to TransSpectrum\n",
    "def RainbowSpectrum(self,minMass,maxMass,FPeaks,minCharge=1,maxCharge=8,\n",
    "                    Name=\"Spectrum\",LabelThres=0.15,ColorThres=0.02,svg=False):\n",
    "#Peaks is a Dataframe and should have columns \"Intensity\",\"m/z\",\"Aver\",\"Sigma\"\n",
    "\n",
    "    plt.rcParams[\"figure.figsize\"] = (18,6)\n",
    "    plt.rcParams.update({'font.size': 14})\n",
    "\n",
    "    #build a curve to show\n",
    "    highest=np.max(self.MagnKai[int(np.round(self.declb(maxMass))):int(np.round(self.declb(minMass)))+1])\n",
    "    yvalues=100.*(self.MagnKai[int(np.round(self.declb(maxMass))):int(np.round(self.declb(minMass)))+1]/highest)\n",
    "    xvalues=self.calib[int(np.round(self.declb(maxMass))):int(np.round(self.declb(minMass)))+1]\n",
    "    xvalues=xvalues[::-1]\n",
    "    yvalues=yvalues[::-1]\n",
    "    \n",
    "    #select peaks to color\n",
    "    Peaks=FPeaks[(FPeaks[\"m/z\"]>minMass) & (FPeaks[\"m/z\"]<maxMass)]\n",
    "    highestPeak=np.max(Peaks[\"Intensity\"])\n",
    "    PeakstoShow=Peaks[Peaks[\"Intensity\"]>highestPeak*LabelThres] [[\"m/z\",\"Aver\",\"Sigma\"]]\n",
    "    PeakstoShow[\"Label\"]=\"\"\n",
    "    for row in PeakstoShow.iterrows():\n",
    "        PeakstoShow[\"Label\"].at[row[0]]=u'{:.1f}\\xB1{:.1f}'.format(row[1][\"Aver\"],row[1][\"Sigma\"])#*2.0)\n",
    "    PeakstoShow=PeakstoShow.drop(columns=[\"Aver\",\"Sigma\"])\n",
    "    labels=[tuple(x[1]) for x in PeakstoShow.iterrows()]\n",
    "    #first color more intensive peaks \n",
    "    Peaks=Peaks.sort_values(\"Intensity\")\n",
    "    charges=np.array(Peaks[Peaks[\"Intensity\"]>highestPeak*ColorThres][\"Aver\"])\n",
    "    mzs=np.array(Peaks[Peaks[\"Intensity\"]>highestPeak*ColorThres][\"m/z\"])\n",
    "\n",
    "    #peaks will be colored from maximum to closest minimal local extremum - here we select extrema\n",
    "    mins=ss.argrelmin(yvalues)\n",
    "    minmzs=xvalues[mins]\n",
    "\n",
    "    #Array for colors - by default color is gray\n",
    "    colorD=np.zeros(len(xvalues))\n",
    "    colorD[:]=maxCharge*1.2 ##!!Default color MaxCharge+const???\n",
    "\n",
    "    #here we apply the colors\n",
    "    for i in range(len(mzs)):\n",
    "        index = minmzs.searchsorted(mzs[i])\n",
    "        if index>0 and index<len(minmzs)-1: \n",
    "            colorD[mins[0][index-1]:mins[0][index]]=maxCharge-charges[i]\n",
    "\n",
    "\n",
    "    #Build the curve\n",
    "    points = np.array([xvalues, yvalues]).T.reshape(-1, 1, 2)\n",
    "    segments = np.concatenate([points[:-1], points[1:]], axis=1)\n",
    "\n",
    "    vmin=minCharge-((maxCharge-minCharge)/8)-1\n",
    "    vmax=maxCharge+((maxCharge-minCharge)/8)-1\n",
    "    print(vmin,vmax)\n",
    "    norm = plt.Normalize(vmin, vmax)\n",
    "    lc = LineCollection(segments, cmap='nipy_spectral', norm=norm)\n",
    "\n",
    "    fig, axs = plt.subplots(1, 1)\n",
    "\n",
    "    lc.set_array(colorD)\n",
    "    lc.set_linewidth(2)\n",
    "    line = axs.add_collection(lc)\n",
    "\n",
    "\n",
    "    norm1 = matplotlib.colors.Normalize(vmin=minCharge, vmax = maxCharge)\n",
    "    cmap = plt.get_cmap('nipy_spectral')\n",
    "    #colors = cmap(np.linspace(1/1.1, 1-1/1.1, cmap.N))\n",
    "    colors = cmap(np.linspace(0.9, 0.1, cmap.N))\n",
    "    color_map = matplotlib.colors.LinearSegmentedColormap.from_list('cut_jet', colors)\n",
    "    cax, _  = matplotlib.colorbar.make_axes(plt.gca())\n",
    "    cbar = matplotlib.colorbar.ColorbarBase(cax, cmap=color_map, norm=norm1)\n",
    "\n",
    "    axs.get_xaxis().get_major_formatter().set_useOffset(False)\n",
    "    axs.get_yaxis().get_major_formatter().set_useOffset(False)\n",
    "    axs.xaxis.set_major_formatter(ticker.FormatStrFormatter('%0.1f'))\n",
    "    axs.yaxis.set_major_formatter(ticker.FormatStrFormatter('%0.f'))\n",
    "    axs.locator_params(axis='x',nbins=6)\n",
    "    axs.set_xlabel(\"m/z\")\n",
    "    axs.set_ylabel(\"Abundance, %\")\n",
    "    axs.spines[\"top\"].set_visible(False)\n",
    "    axs.spines[\"right\"].set_visible(False)\n",
    "\n",
    "    #for mz,n in labels:\n",
    "    #    axs.annotate(n,(mz,100.*(MagnKai[int(np.round(declb(mz)))]/highest)),textcoords=\"offset points\",xytext=(0,10),ha='center' )\n",
    "\n",
    "\n",
    "    axs.set_xlim(minMass, maxMass)\n",
    "    axs.set_ylim(0,100.)\n",
    "\n",
    "    for mz,n in labels:\n",
    "        axs.annotate(n,(mz,100.*(self.MagnKai[int(np.round(self.declb(mz)))]/highest)),textcoords=\"offset points\",xytext=(0,10),ha='center' )\n",
    "\n",
    "    if (svg):\n",
    "        plt.savefig(Name+\".svg\")\n",
    "\n",
    "    plt.show()"
   ]
  },
  {
   "cell_type": "markdown",
   "id": "11384a93",
   "metadata": {},
   "source": [
    "### Isotope modeling"
   ]
  },
  {
   "cell_type": "code",
   "execution_count": 28,
   "id": "5ede4fd7",
   "metadata": {},
   "outputs": [],
   "source": [
    "def IsoSim(Formula, Charge, IsoNumber,tau):\n",
    "    A=2.11762200881e+14\n",
    "    QuantFreq=4000000.0\n",
    "    TrLen=6000000\n",
    "    Pr=1.007276466\n",
    "    H=1.007825032    \n",
    "    cscale=np.arange(TrLen)\n",
    "    #cscale[0]=1 #to avoid division by zero\n",
    "    #Get all isotopolues probabilies and convert them to DataFrame\n",
    "    i = IsoSpecPy.IsoTotalProb(formula=Formula, prob_to_cover = 0.9999, get_confs=True)\n",
    "    IsoDist=pd.DataFrame([[mass, prob] + list(sum(conf,())) for mass, prob, conf in i], \n",
    "                 columns=[\"Mass\",\"Prob\",\"C12\",\"C13\",\"H\",\"D\",\"N14\",\"N15\",\"O16\",\"O17\",\"O18\",\"S32\",\"S33\",\"S34\",\"S36\"])\n",
    "    #calc isotopу peak number for each isotopologue\n",
    "    IsoDist[\"IsoLog\"]=IsoDist.C13+IsoDist.D+IsoDist.N15+IsoDist.O17+IsoDist.O18*2+IsoDist.S33+IsoDist.S34*2+IsoDist.S36*4\n",
    "    #calc m/z, frequences and intensities of FFT signal \n",
    "    IsoDist[\"m/z\"]=(IsoDist.Mass+H)/Charge+Pr\n",
    "    masses=list(IsoDist[IsoDist.IsoLog==IsoNumber][\"m/z\"])\n",
    "    fr=[(np.sqrt(A)*TrLen)/(np.sqrt(mass)*QuantFreq) for mass in masses]\n",
    "    ints=IsoDist[IsoDist.IsoLog==IsoNumber][\"Prob\"]\n",
    "    #form oscillating signal and spectrum\n",
    "    signal=np.zeros(TrLen)\n",
    "    for f,i in zip(fr,ints):\n",
    "        signal=signal+i*np.cos((f/TrLen)*cscale*2*np.pi)*np.exp(-(tau*cscale)/QuantFreq)#tau<->0.0\n",
    "    return signal,IsoDist[IsoDist.IsoLog==IsoNumber]"
   ]
  },
  {
   "cell_type": "markdown",
   "id": "285640fc",
   "metadata": {},
   "source": [
    "## Pictures for journal"
   ]
  },
  {
   "cell_type": "markdown",
   "id": "bdbbce84",
   "metadata": {},
   "source": [
    "### Figure 1"
   ]
  },
  {
   "cell_type": "code",
   "execution_count": 71,
   "id": "64f6e47f",
   "metadata": {},
   "outputs": [],
   "source": [
    "UbiSpec = FullSpectrum(np.loadtxt(\"/data/2-ubiq_1e5_1-850_chB_r_transient_0-1500ms.csv\",skiprows=2)[1000:5895500])"
   ]
  },
  {
   "cell_type": "code",
   "execution_count": 72,
   "id": "7659a30b",
   "metadata": {},
   "outputs": [],
   "source": [
    "plt.rcParams[\"figure.figsize\"] = (8,6)"
   ]
  },
  {
   "cell_type": "code",
   "execution_count": 73,
   "id": "c425a12f",
   "metadata": {},
   "outputs": [
    {
     "data": {
      "image/png": "[encoded data removed]",
      "text/plain": [
       "<Figure size 576x432 with 1 Axes>"
      ]
     },
     "metadata": {
      "needs_background": "light"
     },
     "output_type": "display_data"
    }
   ],
   "source": [
    "plt.plot(UbiSpec.trans)\n",
    "plt.savefig(\"/results/Panel1-1.svg\")"
   ]
  },
  {
   "cell_type": "code",
   "execution_count": 74,
   "id": "3a3d937c",
   "metadata": {},
   "outputs": [
    {
     "data": {
      "text/plain": [
       "[<matplotlib.lines.Line2D at 0x7fa7afe34730>]"
      ]
     },
     "execution_count": 74,
     "metadata": {},
     "output_type": "execute_result"
    },
    {
     "data": {
      "image/png": "[encoded data removed]",
      "text/plain": [
       "<Figure size 576x432 with 1 Axes>"
      ]
     },
     "metadata": {
      "needs_background": "light"
     },
     "output_type": "display_data"
    }
   ],
   "source": [
    "plt.plot(np.arange(UbiSpec.TrLen//2),UbiSpec.trans[0:UbiSpec.TrLen//2])\n",
    "plt.plot(np.arange(UbiSpec.TrLen//2,UbiSpec.TrLen),UbiSpec.trans[UbiSpec.TrLen//2:UbiSpec.TrLen])"
   ]
  },
  {
   "cell_type": "code",
   "execution_count": 75,
   "id": "67888fdb",
   "metadata": {},
   "outputs": [
    {
     "data": {
      "image/png": "[encoded data removed]",
      "text/plain": [
       "<Figure size 576x432 with 1 Axes>"
      ]
     },
     "metadata": {
      "needs_background": "light"
     },
     "output_type": "display_data"
    },
    {
     "data": {
      "text/plain": [
       "<module 'matplotlib.pyplot' from '/opt/conda/lib/python3.8/site-packages/matplotlib/pyplot.py'>"
      ]
     },
     "execution_count": 75,
     "metadata": {},
     "output_type": "execute_result"
    }
   ],
   "source": [
    "UbiSpec.plotmasskai(300,2000,fname=\"/results/Panel1-2.svg\")"
   ]
  },
  {
   "cell_type": "code",
   "execution_count": 76,
   "id": "e427950d",
   "metadata": {},
   "outputs": [
    {
     "data": {
      "image/png": "[encoded data removed]",
      "text/plain": [
       "<Figure size 576x432 with 1 Axes>"
      ]
     },
     "metadata": {
      "needs_background": "light"
     },
     "output_type": "display_data"
    },
    {
     "data": {
      "text/plain": [
       "<module 'matplotlib.pyplot' from '/opt/conda/lib/python3.8/site-packages/matplotlib/pyplot.py'>"
      ]
     },
     "execution_count": 76,
     "metadata": {},
     "output_type": "execute_result"
    }
   ],
   "source": [
    "UbiSpec.plotmasskai(1141,1143.5,fname=\"/results/Panel1-3.svg\")"
   ]
  },
  {
   "cell_type": "code",
   "execution_count": 77,
   "id": "bc12a1f9",
   "metadata": {
    "scrolled": false
   },
   "outputs": [
    {
     "data": {
      "image/png": "[encoded data removed]",
      "text/plain": [
       "<Figure size 576x432 with 1 Axes>"
      ]
     },
     "metadata": {
      "needs_background": "light"
     },
     "output_type": "display_data"
    },
    {
     "data": {
      "text/plain": [
       "<module 'matplotlib.pyplot' from '/opt/conda/lib/python3.8/site-packages/matplotlib/pyplot.py'>"
      ]
     },
     "execution_count": 77,
     "metadata": {},
     "output_type": "execute_result"
    }
   ],
   "source": [
    "UbiSpec.plotmasskai(683.37,683.4,fname=\"/results/Panel1-4.svg\")"
   ]
  },
  {
   "cell_type": "markdown",
   "id": "5716c1e1",
   "metadata": {},
   "source": [
    "### Figure 2 and Suplementary Figure 1"
   ]
  },
  {
   "cell_type": "code",
   "execution_count": 87,
   "id": "d27f5f8b",
   "metadata": {},
   "outputs": [],
   "source": [
    "UbiSpec.UsualProcessing()"
   ]
  },
  {
   "cell_type": "code",
   "execution_count": 92,
   "id": "f370710f",
   "metadata": {
    "jupyter": {
     "outputs_hidden": true
    },
    "scrolled": true
   },
   "outputs": [],
   "source": [
    "_,coverSet,cover=UbiSpec.Products(sequence=\"MQIFVKTLTGKTITLEVEPSDTIENVKAKIQDKEGIPPDQQRLIFAGKQLEDGRTLSDYNIQKESTLHLVLRLRGG\")"
   ]
  },
  {
   "cell_type": "code",
   "execution_count": 93,
   "id": "5ac0c1c7",
   "metadata": {},
   "outputs": [
    {
     "data": {
      "text/plain": [
       "[[],\n",
       " [],\n",
       " [],\n",
       " ['b3 1+'],\n",
       " ['a4 1+', 'b4 1+'],\n",
       " ['a5 1+', 'b5 1+', 'c5 1+'],\n",
       " ['b6 2+', 'b6 1+'],\n",
       " ['b7 1+'],\n",
       " ['a8 2+', 'a8 1+', 'b8 2+', 'b8 1+'],\n",
       " ['a9 2+', 'a9 1+', 'b9 2+', 'b9 1+'],\n",
       " ['b10 1+', 'c10 2+', 'c10 1+'],\n",
       " ['b11 2+', 'b11 1+', 'c11 1+'],\n",
       " ['b12 2+', 'b12 1+', 'c12 1+'],\n",
       " ['a13 2+', 'b13 2+', 'b13 1+'],\n",
       " ['a14 3+', 'a14 2+', 'b14 3+', 'b14 2+', 'b14 1+', 'c14 1+'],\n",
       " ['a15 3+', 'a15 2+', 'b15 3+', 'b15 2+', 'b15 1+', 'y61 7+'],\n",
       " ['a16 3+', 'a16 2+', 'b16 3+', 'b16 2+', 'b16 1+', 'y60 7+'],\n",
       " ['a17 3+', 'a17 2+', 'b17 3+', 'b17 2+', 'b17 1+'],\n",
       " ['a18 2+',\n",
       "  'b18 3+',\n",
       "  'b18 2+',\n",
       "  'b18 1+',\n",
       "  'y58 9+',\n",
       "  'y58 8+',\n",
       "  'y58 7+',\n",
       "  'y58 6+',\n",
       "  'z58 9+'],\n",
       " ['y57 7+'],\n",
       " ['b20 2+', 'y56 8+', 'y56 7+', 'y56 6+'],\n",
       " ['y55 8+', 'y55 7+'],\n",
       " ['b22 2+', 'y54 8+', 'y54 7+', 'y54 6+', 'y54 5+'],\n",
       " ['b23 2+', 'y53 8+', 'y53 7+', 'y53 6+', 'y53 5+'],\n",
       " ['y52 8+', 'y52 7+', 'y52 6+', 'z52 8+', 'z52 7+', 'z52 6+'],\n",
       " ['b25 2+', 'y51 7+', 'y51 6+'],\n",
       " ['y50 7+', 'y50 6+', 'y50 5+'],\n",
       " ['y49 7+', 'y49 6+', 'y49 5+'],\n",
       " ['y48 5+'],\n",
       " ['y47 7+', 'y47 6+'],\n",
       " ['y46 7+', 'y46 6+', 'y46 5+', 'z46 5+'],\n",
       " ['y45 6+', 'y45 4+'],\n",
       " ['y44 7+', 'y44 6+', 'y44 5+', 'y44 4+'],\n",
       " ['y43 5+', 'y43 4+'],\n",
       " ['b34 4+', 'y42 5+', 'y42 4+'],\n",
       " ['y41 5+', 'y41 4+'],\n",
       " ['b36 4+',\n",
       "  'b36 3+',\n",
       "  'y40 7+',\n",
       "  'y40 6+',\n",
       "  'y40 5+',\n",
       "  'y40 4+',\n",
       "  'z40 6+',\n",
       "  'z40 4+'],\n",
       " ['y39 6+', 'y39 5+', 'y39 4+', 'z39 6+', 'z39 5+', 'z39 4+'],\n",
       " ['y38 5+', 'y38 4+'],\n",
       " ['y37 7+', 'y37 6+', 'y37 5+', 'y37 4+'],\n",
       " ['y36 4+'],\n",
       " ['z35 3+'],\n",
       " [],\n",
       " ['y33 3+'],\n",
       " ['y32 6+', 'y32 5+', 'y32 4+', 'y32 3+'],\n",
       " ['y31 4+'],\n",
       " ['y30 5+', 'y30 4+', 'y30 3+'],\n",
       " ['y29 5+', 'y29 4+'],\n",
       " ['y28 3+', 'z28 4+', 'z28 3+'],\n",
       " ['y27 4+', 'y27 3+'],\n",
       " ['y26 4+', 'y26 3+', 'z26 3+'],\n",
       " ['y25 4+'],\n",
       " ['y24 5+', 'y24 4+', 'y24 3+', 'z24 4+', 'z24 3+'],\n",
       " ['y23 4+'],\n",
       " ['y22 3+', 'y22 2+'],\n",
       " ['y21 3+'],\n",
       " ['y20 4+', 'y20 3+'],\n",
       " ['y19 3+', 'y19 2+'],\n",
       " ['y18 4+', 'y18 3+', 'y18 2+', 'z18 3+', 'z18 2+', 'b58 7+'],\n",
       " ['y17 3+', 'y17 2+', 'z17 2+'],\n",
       " ['y16 4+', 'y16 3+', 'y16 2+'],\n",
       " ['y15 3+', 'y15 2+', 'z15 3+', 'z15 2+'],\n",
       " ['y14 4+', 'y14 3+', 'y14 2+', 'z14 3+', 'z14 2+'],\n",
       " ['y13 3+', 'y13 2+'],\n",
       " ['y12 3+', 'y12 2+', 'z12 1+'],\n",
       " ['y11 2+'],\n",
       " ['y10 3+', 'y10 2+'],\n",
       " ['y9 3+', 'y9 2+', 'y9 1+', 'z9 2+'],\n",
       " ['y8 2+', 'z8 1+'],\n",
       " ['y7 2+', 'y7 1+', 'z7 2+', 'z7 1+'],\n",
       " ['y6 2+', 'y6 1+'],\n",
       " ['z5 1+'],\n",
       " ['y4 1+', 'z4 1+'],\n",
       " [],\n",
       " []]"
      ]
     },
     "execution_count": 93,
     "metadata": {},
     "output_type": "execute_result"
    }
   ],
   "source": [
    "coverSet"
   ]
  },
  {
   "cell_type": "code",
   "execution_count": 94,
   "id": "c4c118aa",
   "metadata": {},
   "outputs": [
    {
     "data": {
      "text/plain": [
       "0.92"
      ]
     },
     "execution_count": 94,
     "metadata": {},
     "output_type": "execute_result"
    }
   ],
   "source": [
    "cover"
   ]
  },
  {
   "cell_type": "code",
   "execution_count": 96,
   "id": "52a49653",
   "metadata": {},
   "outputs": [],
   "source": [
    "UbiSpec.PeakstoClusters()"
   ]
  },
  {
   "cell_type": "code",
   "execution_count": 98,
   "id": "184674e1",
   "metadata": {},
   "outputs": [
    {
     "data": {
      "text/plain": [
       "1167"
      ]
     },
     "execution_count": 98,
     "metadata": {},
     "output_type": "execute_result"
    }
   ],
   "source": [
    "len(UbiSpec.RPeaks[UbiSpec.RPeaks[\"Ions\"]!=\"\"])"
   ]
  },
  {
   "cell_type": "code",
   "execution_count": 99,
   "id": "396471a2",
   "metadata": {},
   "outputs": [
    {
     "data": {
      "text/plain": [
       "212"
      ]
     },
     "execution_count": 99,
     "metadata": {},
     "output_type": "execute_result"
    }
   ],
   "source": [
    "len(UbiSpec.Clusters[UbiSpec.Clusters[\"Ions\"]!=\"\"])"
   ]
  },
  {
   "cell_type": "code",
   "execution_count": 100,
   "id": "f6a9dd8d",
   "metadata": {},
   "outputs": [],
   "source": [
    "UbiSpec.RPeaks=UbiSpec.RPeaks[UbiSpec.RPeaks['Ions']!=\"\"]"
   ]
  },
  {
   "cell_type": "code",
   "execution_count": 101,
   "id": "e60c73e4",
   "metadata": {},
   "outputs": [],
   "source": [
    "UbiSpec.RPeaks=UbiSpec.RPeaks[UbiSpec.RPeaks[\"number\"]==0]"
   ]
  },
  {
   "cell_type": "code",
   "execution_count": 102,
   "id": "9ecc2f70",
   "metadata": {},
   "outputs": [],
   "source": [
    "UbiSpec.RPeaks=UbiSpec.RPeaks[UbiSpec.RPeaks[\"Correlation\"]>0.98]"
   ]
  },
  {
   "cell_type": "code",
   "execution_count": 103,
   "id": "39ccd617",
   "metadata": {},
   "outputs": [],
   "source": [
    "UbiSpec.RPeaks=UbiSpec.RPeaks[~UbiSpec.RPeaks[\"issues\"]]"
   ]
  },
  {
   "cell_type": "code",
   "execution_count": 108,
   "id": "af3f2f1a",
   "metadata": {},
   "outputs": [
    {
     "data": {
      "application/vnd.jupyter.widget-view+json": {
       "model_id": "f4bdbe9908874fe59c2d089f0e720e9f",
       "version_major": 2,
       "version_minor": 0
      },
      "text/plain": [
       "HBox(children=(FloatProgress(value=0.0, max=139.0), HTML(value='')))"
      ]
     },
     "metadata": {},
     "output_type": "display_data"
    },
    {
     "name": "stdout",
     "output_type": "stream",
     "text": [
      "\n"
     ]
    },
    {
     "data": {
      "text/html": [
       "<div>\n",
       "<style scoped>\n",
       "    .dataframe tbody tr th:only-of-type {\n",
       "        vertical-align: middle;\n",
       "    }\n",
       "\n",
       "    .dataframe tbody tr th {\n",
       "        vertical-align: top;\n",
       "    }\n",
       "\n",
       "    .dataframe thead th {\n",
       "        text-align: right;\n",
       "    }\n",
       "</style>\n",
       "<table border=\"1\" class=\"dataframe\">\n",
       "  <thead>\n",
       "    <tr style=\"text-align: right;\">\n",
       "      <th></th>\n",
       "      <th>m/z</th>\n",
       "      <th>Intensity</th>\n",
       "      <th>resolution</th>\n",
       "      <th>issues</th>\n",
       "      <th>cluster</th>\n",
       "      <th>number</th>\n",
       "      <th>rest</th>\n",
       "      <th>intensity</th>\n",
       "      <th>Mass</th>\n",
       "      <th>Charge</th>\n",
       "      <th>...</th>\n",
       "      <th>Ions</th>\n",
       "      <th>PPMError</th>\n",
       "      <th>Shift</th>\n",
       "      <th>TheorMass</th>\n",
       "      <th>Slope</th>\n",
       "      <th>Intercept</th>\n",
       "      <th>RSquare</th>\n",
       "      <th>Ratio</th>\n",
       "      <th>FWHM</th>\n",
       "      <th>FWHM Coeff</th>\n",
       "    </tr>\n",
       "  </thead>\n",
       "  <tbody>\n",
       "    <tr>\n",
       "      <th>0</th>\n",
       "      <td>336.219280</td>\n",
       "      <td>6.134931e+07</td>\n",
       "      <td>235617.000000</td>\n",
       "      <td>False</td>\n",
       "      <td>143</td>\n",
       "      <td>0</td>\n",
       "      <td>0.000108</td>\n",
       "      <td>6.134931e+07</td>\n",
       "      <td>670.4239</td>\n",
       "      <td>2</td>\n",
       "      <td>...</td>\n",
       "      <td>y6</td>\n",
       "      <td>0.082451</td>\n",
       "      <td>0</td>\n",
       "      <td>670.423845</td>\n",
       "      <td>-2.028517</td>\n",
       "      <td>4.902530</td>\n",
       "      <td>-0.988961</td>\n",
       "      <td>3.958016</td>\n",
       "      <td>0.001427</td>\n",
       "      <td>1.257158</td>\n",
       "    </tr>\n",
       "    <tr>\n",
       "      <th>1</th>\n",
       "      <td>340.885709</td>\n",
       "      <td>6.461985e+08</td>\n",
       "      <td>241279.703125</td>\n",
       "      <td>False</td>\n",
       "      <td>150</td>\n",
       "      <td>0</td>\n",
       "      <td>0.000096</td>\n",
       "      <td>6.461985e+08</td>\n",
       "      <td>1019.6352</td>\n",
       "      <td>3</td>\n",
       "      <td>...</td>\n",
       "      <td>y9</td>\n",
       "      <td>-0.034899</td>\n",
       "      <td>0</td>\n",
       "      <td>1019.635236</td>\n",
       "      <td>-1.585853</td>\n",
       "      <td>6.976873</td>\n",
       "      <td>-0.999223</td>\n",
       "      <td>3.251067</td>\n",
       "      <td>0.001413</td>\n",
       "      <td>1.231739</td>\n",
       "    </tr>\n",
       "    <tr>\n",
       "      <th>2</th>\n",
       "      <td>373.190300</td>\n",
       "      <td>1.242558e+10</td>\n",
       "      <td>233241.078125</td>\n",
       "      <td>False</td>\n",
       "      <td>199</td>\n",
       "      <td>0</td>\n",
       "      <td>0.000023</td>\n",
       "      <td>1.242558e+10</td>\n",
       "      <td>372.1830</td>\n",
       "      <td>1</td>\n",
       "      <td>...</td>\n",
       "      <td>b3</td>\n",
       "      <td>-0.342904</td>\n",
       "      <td>0</td>\n",
       "      <td>372.183128</td>\n",
       "      <td>-0.705102</td>\n",
       "      <td>9.327137</td>\n",
       "      <td>-0.999796</td>\n",
       "      <td>1.728489</td>\n",
       "      <td>0.001600</td>\n",
       "      <td>1.222414</td>\n",
       "    </tr>\n",
       "    <tr>\n",
       "      <th>3</th>\n",
       "      <td>374.214745</td>\n",
       "      <td>4.155771e+07</td>\n",
       "      <td>228483.218750</td>\n",
       "      <td>False</td>\n",
       "      <td>201</td>\n",
       "      <td>0</td>\n",
       "      <td>0.000036</td>\n",
       "      <td>4.155771e+07</td>\n",
       "      <td>746.4149</td>\n",
       "      <td>2</td>\n",
       "      <td>...</td>\n",
       "      <td>b6</td>\n",
       "      <td>-0.026232</td>\n",
       "      <td>0</td>\n",
       "      <td>746.414920</td>\n",
       "      <td>-1.478049</td>\n",
       "      <td>4.211250</td>\n",
       "      <td>-0.923763</td>\n",
       "      <td>1.989147</td>\n",
       "      <td>0.001638</td>\n",
       "      <td>1.238192</td>\n",
       "    </tr>\n",
       "    <tr>\n",
       "      <th>4</th>\n",
       "      <td>378.580244</td>\n",
       "      <td>7.365858e+07</td>\n",
       "      <td>220029.546875</td>\n",
       "      <td>False</td>\n",
       "      <td>208</td>\n",
       "      <td>0</td>\n",
       "      <td>0.000103</td>\n",
       "      <td>7.365858e+07</td>\n",
       "      <td>1132.7188</td>\n",
       "      <td>3</td>\n",
       "      <td>...</td>\n",
       "      <td>y10</td>\n",
       "      <td>-0.441358</td>\n",
       "      <td>0</td>\n",
       "      <td>1132.719300</td>\n",
       "      <td>-2.013676</td>\n",
       "      <td>5.086413</td>\n",
       "      <td>-0.979811</td>\n",
       "      <td>3.410930</td>\n",
       "      <td>0.001721</td>\n",
       "      <td>1.264803</td>\n",
       "    </tr>\n",
       "    <tr>\n",
       "      <th>...</th>\n",
       "      <td>...</td>\n",
       "      <td>...</td>\n",
       "      <td>...</td>\n",
       "      <td>...</td>\n",
       "      <td>...</td>\n",
       "      <td>...</td>\n",
       "      <td>...</td>\n",
       "      <td>...</td>\n",
       "      <td>...</td>\n",
       "      <td>...</td>\n",
       "      <td>...</td>\n",
       "      <td>...</td>\n",
       "      <td>...</td>\n",
       "      <td>...</td>\n",
       "      <td>...</td>\n",
       "      <td>...</td>\n",
       "      <td>...</td>\n",
       "      <td>...</td>\n",
       "      <td>...</td>\n",
       "      <td>...</td>\n",
       "      <td>...</td>\n",
       "    </tr>\n",
       "    <tr>\n",
       "      <th>134</th>\n",
       "      <td>1579.916452</td>\n",
       "      <td>2.039474e+07</td>\n",
       "      <td>103602.679688</td>\n",
       "      <td>False</td>\n",
       "      <td>2124</td>\n",
       "      <td>0</td>\n",
       "      <td>0.000275</td>\n",
       "      <td>2.039474e+07</td>\n",
       "      <td>1578.9089</td>\n",
       "      <td>1</td>\n",
       "      <td>...</td>\n",
       "      <td>c14</td>\n",
       "      <td>-4.966538</td>\n",
       "      <td>0</td>\n",
       "      <td>1578.916742</td>\n",
       "      <td>-0.473106</td>\n",
       "      <td>2.856840</td>\n",
       "      <td>-0.487728</td>\n",
       "      <td>1.221543</td>\n",
       "      <td>0.015250</td>\n",
       "      <td>1.297800</td>\n",
       "    </tr>\n",
       "    <tr>\n",
       "      <th>135</th>\n",
       "      <td>1675.974630</td>\n",
       "      <td>1.490847e+08</td>\n",
       "      <td>107425.664062</td>\n",
       "      <td>False</td>\n",
       "      <td>2192</td>\n",
       "      <td>0</td>\n",
       "      <td>0.000354</td>\n",
       "      <td>1.490847e+08</td>\n",
       "      <td>1674.9670</td>\n",
       "      <td>1</td>\n",
       "      <td>...</td>\n",
       "      <td>b15</td>\n",
       "      <td>-4.332607</td>\n",
       "      <td>0</td>\n",
       "      <td>1674.974257</td>\n",
       "      <td>-1.015279</td>\n",
       "      <td>5.140671</td>\n",
       "      <td>-0.967207</td>\n",
       "      <td>2.143494</td>\n",
       "      <td>0.015601</td>\n",
       "      <td>1.242142</td>\n",
       "    </tr>\n",
       "    <tr>\n",
       "      <th>136</th>\n",
       "      <td>1805.016248</td>\n",
       "      <td>9.635850e+07</td>\n",
       "      <td>99762.593750</td>\n",
       "      <td>False</td>\n",
       "      <td>2239</td>\n",
       "      <td>0</td>\n",
       "      <td>0.000372</td>\n",
       "      <td>9.635850e+07</td>\n",
       "      <td>1804.0086</td>\n",
       "      <td>1</td>\n",
       "      <td>...</td>\n",
       "      <td>b16</td>\n",
       "      <td>-4.573809</td>\n",
       "      <td>0</td>\n",
       "      <td>1804.016851</td>\n",
       "      <td>-1.693518</td>\n",
       "      <td>5.147122</td>\n",
       "      <td>-0.977280</td>\n",
       "      <td>3.616243</td>\n",
       "      <td>0.018093</td>\n",
       "      <td>1.273081</td>\n",
       "    </tr>\n",
       "    <tr>\n",
       "      <th>137</th>\n",
       "      <td>1904.083723</td>\n",
       "      <td>6.395316e+07</td>\n",
       "      <td>101279.820312</td>\n",
       "      <td>False</td>\n",
       "      <td>2271</td>\n",
       "      <td>0</td>\n",
       "      <td>0.000047</td>\n",
       "      <td>6.395316e+07</td>\n",
       "      <td>1903.0764</td>\n",
       "      <td>1</td>\n",
       "      <td>...</td>\n",
       "      <td>b17</td>\n",
       "      <td>-4.658496</td>\n",
       "      <td>0</td>\n",
       "      <td>1903.085266</td>\n",
       "      <td>-1.714450</td>\n",
       "      <td>4.788556</td>\n",
       "      <td>-0.986970</td>\n",
       "      <td>2.683335</td>\n",
       "      <td>0.018800</td>\n",
       "      <td>1.238083</td>\n",
       "    </tr>\n",
       "    <tr>\n",
       "      <th>138</th>\n",
       "      <td>2033.125965</td>\n",
       "      <td>1.098032e+08</td>\n",
       "      <td>97172.039062</td>\n",
       "      <td>False</td>\n",
       "      <td>2295</td>\n",
       "      <td>0</td>\n",
       "      <td>-0.000511</td>\n",
       "      <td>1.098032e+08</td>\n",
       "      <td>2032.1192</td>\n",
       "      <td>1</td>\n",
       "      <td>...</td>\n",
       "      <td>b18</td>\n",
       "      <td>-4.261414</td>\n",
       "      <td>0</td>\n",
       "      <td>2032.127860</td>\n",
       "      <td>-1.781703</td>\n",
       "      <td>5.359344</td>\n",
       "      <td>-0.988488</td>\n",
       "      <td>4.319183</td>\n",
       "      <td>0.020923</td>\n",
       "      <td>1.245208</td>\n",
       "    </tr>\n",
       "  </tbody>\n",
       "</table>\n",
       "<p>139 rows × 24 columns</p>\n",
       "</div>"
      ],
      "text/plain": [
       "             m/z     Intensity     resolution  issues  cluster  number  \\\n",
       "0     336.219280  6.134931e+07  235617.000000   False      143       0   \n",
       "1     340.885709  6.461985e+08  241279.703125   False      150       0   \n",
       "2     373.190300  1.242558e+10  233241.078125   False      199       0   \n",
       "3     374.214745  4.155771e+07  228483.218750   False      201       0   \n",
       "4     378.580244  7.365858e+07  220029.546875   False      208       0   \n",
       "..           ...           ...            ...     ...      ...     ...   \n",
       "134  1579.916452  2.039474e+07  103602.679688   False     2124       0   \n",
       "135  1675.974630  1.490847e+08  107425.664062   False     2192       0   \n",
       "136  1805.016248  9.635850e+07   99762.593750   False     2239       0   \n",
       "137  1904.083723  6.395316e+07  101279.820312   False     2271       0   \n",
       "138  2033.125965  1.098032e+08   97172.039062   False     2295       0   \n",
       "\n",
       "         rest     intensity       Mass  Charge  ...  Ions  PPMError Shift  \\\n",
       "0    0.000108  6.134931e+07   670.4239       2  ...    y6  0.082451     0   \n",
       "1    0.000096  6.461985e+08  1019.6352       3  ...    y9 -0.034899     0   \n",
       "2    0.000023  1.242558e+10   372.1830       1  ...    b3 -0.342904     0   \n",
       "3    0.000036  4.155771e+07   746.4149       2  ...    b6 -0.026232     0   \n",
       "4    0.000103  7.365858e+07  1132.7188       3  ...   y10 -0.441358     0   \n",
       "..        ...           ...        ...     ...  ...   ...       ...   ...   \n",
       "134  0.000275  2.039474e+07  1578.9089       1  ...   c14 -4.966538     0   \n",
       "135  0.000354  1.490847e+08  1674.9670       1  ...   b15 -4.332607     0   \n",
       "136  0.000372  9.635850e+07  1804.0086       1  ...   b16 -4.573809     0   \n",
       "137  0.000047  6.395316e+07  1903.0764       1  ...   b17 -4.658496     0   \n",
       "138 -0.000511  1.098032e+08  2032.1192       1  ...   b18 -4.261414     0   \n",
       "\n",
       "       TheorMass     Slope  Intercept   RSquare     Ratio      FWHM  \\\n",
       "0     670.423845 -2.028517   4.902530 -0.988961  3.958016  0.001427   \n",
       "1    1019.635236 -1.585853   6.976873 -0.999223  3.251067  0.001413   \n",
       "2     372.183128 -0.705102   9.327137 -0.999796  1.728489  0.001600   \n",
       "3     746.414920 -1.478049   4.211250 -0.923763  1.989147  0.001638   \n",
       "4    1132.719300 -2.013676   5.086413 -0.979811  3.410930  0.001721   \n",
       "..           ...       ...        ...       ...       ...       ...   \n",
       "134  1578.916742 -0.473106   2.856840 -0.487728  1.221543  0.015250   \n",
       "135  1674.974257 -1.015279   5.140671 -0.967207  2.143494  0.015601   \n",
       "136  1804.016851 -1.693518   5.147122 -0.977280  3.616243  0.018093   \n",
       "137  1903.085266 -1.714450   4.788556 -0.986970  2.683335  0.018800   \n",
       "138  2032.127860 -1.781703   5.359344 -0.988488  4.319183  0.020923   \n",
       "\n",
       "     FWHM Coeff  \n",
       "0      1.257158  \n",
       "1      1.231739  \n",
       "2      1.222414  \n",
       "3      1.238192  \n",
       "4      1.264803  \n",
       "..          ...  \n",
       "134    1.297800  \n",
       "135    1.242142  \n",
       "136    1.273081  \n",
       "137    1.238083  \n",
       "138    1.245208  \n",
       "\n",
       "[139 rows x 24 columns]"
      ]
     },
     "execution_count": 108,
     "metadata": {},
     "output_type": "execute_result"
    }
   ],
   "source": [
    "_=UbiSpec.TDACalc()"
   ]
  },
  {
   "cell_type": "code",
   "execution_count": 111,
   "id": "1503a3a8",
   "metadata": {},
   "outputs": [],
   "source": [
    "FRes=UbiSpec.RPeaks[UbiSpec.RPeaks[\"RSquare\"]<-0.85]"
   ]
  },
  {
   "cell_type": "code",
   "execution_count": 112,
   "id": "d906db88",
   "metadata": {},
   "outputs": [
    {
     "data": {
      "image/png": "[encoded data removed]",
      "text/plain": [
       "<Figure size 720x720 with 1 Axes>"
      ]
     },
     "metadata": {
      "needs_background": "light"
     },
     "output_type": "display_data"
    }
   ],
   "source": [
    "Counter=0\n",
    "plt.rcParams[\"figure.figsize\"] = (10,10)\n",
    "for i in range(1,9):\n",
    "    Yscat=-FRes[\"Slope\"][FRes[\"Charge\"]==i]\n",
    "    Xscat=FRes[\"m/z\"][FRes[\"Charge\"]==i]*i\n",
    "    plt.plot(Xscat,Yscat,\"o\",color=colors[i],label=\"Charge \"+str(i))\n",
    "plt.legend()\n",
    "plt.xlabel(\"mass\")\n",
    "plt.ylabel(r\"1/$\\tau$\")\n",
    "#plt.xlim(800,860)\n",
    "plt.ylim(0.5,4.5)\n",
    "plt.savefig(\"/results/Panel2-1.svg\")\n",
    "plt.show()"
   ]
  },
  {
   "cell_type": "code",
   "execution_count": 113,
   "id": "d1cf3a41",
   "metadata": {},
   "outputs": [],
   "source": [
    "UbiSpec.PeakstoClusters()"
   ]
  },
  {
   "cell_type": "code",
   "execution_count": 114,
   "id": "7c66aeae",
   "metadata": {},
   "outputs": [],
   "source": [
    "UbiSpec.RPeaks=UbiSpec.RPeaks[UbiSpec.RPeaks['Ions']!=\"\"]"
   ]
  },
  {
   "cell_type": "code",
   "execution_count": 115,
   "id": "569f8328",
   "metadata": {},
   "outputs": [],
   "source": [
    "UbiSpec.RPeaks=UbiSpec.RPeaks[UbiSpec.RPeaks[\"Correlation\"]>0.98]"
   ]
  },
  {
   "cell_type": "code",
   "execution_count": 116,
   "id": "dce66752",
   "metadata": {},
   "outputs": [],
   "source": [
    "UbiSpec.RPeaks=UbiSpec.RPeaks[~UbiSpec.RPeaks[\"issues\"]]"
   ]
  },
  {
   "cell_type": "code",
   "execution_count": 117,
   "id": "c128d1bc",
   "metadata": {},
   "outputs": [],
   "source": [
    "UbiSpec.RPeaks=UbiSpec.RPeaks[UbiSpec.RPeaks.Intensity>1.0e08]"
   ]
  },
  {
   "cell_type": "code",
   "execution_count": 119,
   "id": "3c884aad",
   "metadata": {},
   "outputs": [
    {
     "data": {
      "application/vnd.jupyter.widget-view+json": {
       "model_id": "07d223718fcf43d58cfc506dbaff16b3",
       "version_major": 2,
       "version_minor": 0
      },
      "text/plain": [
       "HBox(children=(FloatProgress(value=0.0, max=566.0), HTML(value='')))"
      ]
     },
     "metadata": {},
     "output_type": "display_data"
    },
    {
     "name": "stdout",
     "output_type": "stream",
     "text": [
      "\n"
     ]
    },
    {
     "data": {
      "text/html": [
       "<div>\n",
       "<style scoped>\n",
       "    .dataframe tbody tr th:only-of-type {\n",
       "        vertical-align: middle;\n",
       "    }\n",
       "\n",
       "    .dataframe tbody tr th {\n",
       "        vertical-align: top;\n",
       "    }\n",
       "\n",
       "    .dataframe thead th {\n",
       "        text-align: right;\n",
       "    }\n",
       "</style>\n",
       "<table border=\"1\" class=\"dataframe\">\n",
       "  <thead>\n",
       "    <tr style=\"text-align: right;\">\n",
       "      <th></th>\n",
       "      <th>m/z</th>\n",
       "      <th>Intensity</th>\n",
       "      <th>resolution</th>\n",
       "      <th>issues</th>\n",
       "      <th>cluster</th>\n",
       "      <th>number</th>\n",
       "      <th>rest</th>\n",
       "      <th>intensity</th>\n",
       "      <th>Mass</th>\n",
       "      <th>Charge</th>\n",
       "      <th>...</th>\n",
       "      <th>Ions</th>\n",
       "      <th>PPMError</th>\n",
       "      <th>Shift</th>\n",
       "      <th>TheorMass</th>\n",
       "      <th>Slope</th>\n",
       "      <th>Intercept</th>\n",
       "      <th>RSquare</th>\n",
       "      <th>Ratio</th>\n",
       "      <th>FWHM</th>\n",
       "      <th>FWHM Coeff</th>\n",
       "    </tr>\n",
       "  </thead>\n",
       "  <tbody>\n",
       "    <tr>\n",
       "      <th>0</th>\n",
       "      <td>340.885709</td>\n",
       "      <td>6.461985e+08</td>\n",
       "      <td>241279.703125</td>\n",
       "      <td>False</td>\n",
       "      <td>150</td>\n",
       "      <td>0</td>\n",
       "      <td>0.000096</td>\n",
       "      <td>6.461985e+08</td>\n",
       "      <td>1019.6352</td>\n",
       "      <td>3</td>\n",
       "      <td>...</td>\n",
       "      <td>y9</td>\n",
       "      <td>-0.034899</td>\n",
       "      <td>0</td>\n",
       "      <td>1019.635236</td>\n",
       "      <td>-1.585853</td>\n",
       "      <td>6.976873</td>\n",
       "      <td>-0.999223</td>\n",
       "      <td>3.251067</td>\n",
       "      <td>0.001413</td>\n",
       "      <td>1.231739</td>\n",
       "    </tr>\n",
       "    <tr>\n",
       "      <th>1</th>\n",
       "      <td>341.220173</td>\n",
       "      <td>3.007582e+08</td>\n",
       "      <td>244628.937500</td>\n",
       "      <td>False</td>\n",
       "      <td>150</td>\n",
       "      <td>1</td>\n",
       "      <td>0.000135</td>\n",
       "      <td>3.007582e+08</td>\n",
       "      <td>1019.6352</td>\n",
       "      <td>3</td>\n",
       "      <td>...</td>\n",
       "      <td>y9</td>\n",
       "      <td>-0.034899</td>\n",
       "      <td>0</td>\n",
       "      <td>1019.635236</td>\n",
       "      <td>-1.589961</td>\n",
       "      <td>6.227196</td>\n",
       "      <td>-0.940514</td>\n",
       "      <td>4.117533</td>\n",
       "      <td>0.001395</td>\n",
       "      <td>1.220073</td>\n",
       "    </tr>\n",
       "    <tr>\n",
       "      <th>2</th>\n",
       "      <td>373.190300</td>\n",
       "      <td>1.242558e+10</td>\n",
       "      <td>233241.078125</td>\n",
       "      <td>False</td>\n",
       "      <td>199</td>\n",
       "      <td>0</td>\n",
       "      <td>0.000023</td>\n",
       "      <td>1.242558e+10</td>\n",
       "      <td>372.1830</td>\n",
       "      <td>1</td>\n",
       "      <td>...</td>\n",
       "      <td>b3</td>\n",
       "      <td>-0.342904</td>\n",
       "      <td>0</td>\n",
       "      <td>372.183128</td>\n",
       "      <td>-0.705102</td>\n",
       "      <td>9.327137</td>\n",
       "      <td>-0.999796</td>\n",
       "      <td>1.728489</td>\n",
       "      <td>0.001600</td>\n",
       "      <td>1.222414</td>\n",
       "    </tr>\n",
       "    <tr>\n",
       "      <th>3</th>\n",
       "      <td>374.193646</td>\n",
       "      <td>1.972783e+09</td>\n",
       "      <td>235001.218750</td>\n",
       "      <td>False</td>\n",
       "      <td>199</td>\n",
       "      <td>1</td>\n",
       "      <td>0.000015</td>\n",
       "      <td>1.972783e+09</td>\n",
       "      <td>372.1830</td>\n",
       "      <td>1</td>\n",
       "      <td>...</td>\n",
       "      <td>b3</td>\n",
       "      <td>-0.342904</td>\n",
       "      <td>0</td>\n",
       "      <td>372.183128</td>\n",
       "      <td>-0.845648</td>\n",
       "      <td>7.585471</td>\n",
       "      <td>-0.998761</td>\n",
       "      <td>1.989504</td>\n",
       "      <td>0.001592</td>\n",
       "      <td>1.215215</td>\n",
       "    </tr>\n",
       "    <tr>\n",
       "      <th>4</th>\n",
       "      <td>385.753269</td>\n",
       "      <td>3.492118e+08</td>\n",
       "      <td>224314.703125</td>\n",
       "      <td>False</td>\n",
       "      <td>220</td>\n",
       "      <td>0</td>\n",
       "      <td>0.000085</td>\n",
       "      <td>3.492118e+08</td>\n",
       "      <td>769.4919</td>\n",
       "      <td>2</td>\n",
       "      <td>...</td>\n",
       "      <td>y7</td>\n",
       "      <td>-0.466554</td>\n",
       "      <td>0</td>\n",
       "      <td>769.492259</td>\n",
       "      <td>-1.492609</td>\n",
       "      <td>6.305540</td>\n",
       "      <td>-0.996121</td>\n",
       "      <td>3.386155</td>\n",
       "      <td>0.001720</td>\n",
       "      <td>1.240856</td>\n",
       "    </tr>\n",
       "    <tr>\n",
       "      <th>...</th>\n",
       "      <td>...</td>\n",
       "      <td>...</td>\n",
       "      <td>...</td>\n",
       "      <td>...</td>\n",
       "      <td>...</td>\n",
       "      <td>...</td>\n",
       "      <td>...</td>\n",
       "      <td>...</td>\n",
       "      <td>...</td>\n",
       "      <td>...</td>\n",
       "      <td>...</td>\n",
       "      <td>...</td>\n",
       "      <td>...</td>\n",
       "      <td>...</td>\n",
       "      <td>...</td>\n",
       "      <td>...</td>\n",
       "      <td>...</td>\n",
       "      <td>...</td>\n",
       "      <td>...</td>\n",
       "      <td>...</td>\n",
       "      <td>...</td>\n",
       "    </tr>\n",
       "    <tr>\n",
       "      <th>561</th>\n",
       "      <td>1563.895280</td>\n",
       "      <td>2.102023e+08</td>\n",
       "      <td>108530.632812</td>\n",
       "      <td>False</td>\n",
       "      <td>2109</td>\n",
       "      <td>1</td>\n",
       "      <td>0.001249</td>\n",
       "      <td>2.102023e+08</td>\n",
       "      <td>1561.8834</td>\n",
       "      <td>1</td>\n",
       "      <td>...</td>\n",
       "      <td>b14</td>\n",
       "      <td>-4.348996</td>\n",
       "      <td>0</td>\n",
       "      <td>1561.890193</td>\n",
       "      <td>-1.153688</td>\n",
       "      <td>5.580529</td>\n",
       "      <td>-0.986159</td>\n",
       "      <td>2.574061</td>\n",
       "      <td>0.014410</td>\n",
       "      <td>1.262498</td>\n",
       "    </tr>\n",
       "    <tr>\n",
       "      <th>562</th>\n",
       "      <td>1675.974630</td>\n",
       "      <td>1.490847e+08</td>\n",
       "      <td>107425.664062</td>\n",
       "      <td>False</td>\n",
       "      <td>2192</td>\n",
       "      <td>0</td>\n",
       "      <td>0.000354</td>\n",
       "      <td>1.490847e+08</td>\n",
       "      <td>1674.9670</td>\n",
       "      <td>1</td>\n",
       "      <td>...</td>\n",
       "      <td>b15</td>\n",
       "      <td>-4.332607</td>\n",
       "      <td>0</td>\n",
       "      <td>1674.974257</td>\n",
       "      <td>-1.015279</td>\n",
       "      <td>5.140671</td>\n",
       "      <td>-0.967207</td>\n",
       "      <td>2.143494</td>\n",
       "      <td>0.015601</td>\n",
       "      <td>1.242142</td>\n",
       "    </tr>\n",
       "    <tr>\n",
       "      <th>563</th>\n",
       "      <td>1676.978170</td>\n",
       "      <td>1.271138e+08</td>\n",
       "      <td>105360.921875</td>\n",
       "      <td>False</td>\n",
       "      <td>2192</td>\n",
       "      <td>1</td>\n",
       "      <td>0.000539</td>\n",
       "      <td>1.271138e+08</td>\n",
       "      <td>1674.9670</td>\n",
       "      <td>1</td>\n",
       "      <td>...</td>\n",
       "      <td>b15</td>\n",
       "      <td>-4.332607</td>\n",
       "      <td>0</td>\n",
       "      <td>1674.974257</td>\n",
       "      <td>-1.352125</td>\n",
       "      <td>5.204731</td>\n",
       "      <td>-0.970992</td>\n",
       "      <td>2.686987</td>\n",
       "      <td>0.015917</td>\n",
       "      <td>1.258065</td>\n",
       "    </tr>\n",
       "    <tr>\n",
       "      <th>564</th>\n",
       "      <td>2033.125965</td>\n",
       "      <td>1.098032e+08</td>\n",
       "      <td>97172.039062</td>\n",
       "      <td>False</td>\n",
       "      <td>2295</td>\n",
       "      <td>0</td>\n",
       "      <td>-0.000511</td>\n",
       "      <td>1.098032e+08</td>\n",
       "      <td>2032.1192</td>\n",
       "      <td>1</td>\n",
       "      <td>...</td>\n",
       "      <td>b18</td>\n",
       "      <td>-4.261414</td>\n",
       "      <td>0</td>\n",
       "      <td>2032.127860</td>\n",
       "      <td>-1.781703</td>\n",
       "      <td>5.359344</td>\n",
       "      <td>-0.988488</td>\n",
       "      <td>4.319183</td>\n",
       "      <td>0.020923</td>\n",
       "      <td>1.245208</td>\n",
       "    </tr>\n",
       "    <tr>\n",
       "      <th>565</th>\n",
       "      <td>2034.129050</td>\n",
       "      <td>1.242058e+08</td>\n",
       "      <td>93161.679688</td>\n",
       "      <td>False</td>\n",
       "      <td>2295</td>\n",
       "      <td>1</td>\n",
       "      <td>-0.000781</td>\n",
       "      <td>1.242058e+08</td>\n",
       "      <td>2032.1192</td>\n",
       "      <td>1</td>\n",
       "      <td>...</td>\n",
       "      <td>b18</td>\n",
       "      <td>-4.261414</td>\n",
       "      <td>0</td>\n",
       "      <td>2032.127860</td>\n",
       "      <td>-2.042389</td>\n",
       "      <td>5.618145</td>\n",
       "      <td>-0.988548</td>\n",
       "      <td>4.289287</td>\n",
       "      <td>0.021834</td>\n",
       "      <td>1.280477</td>\n",
       "    </tr>\n",
       "  </tbody>\n",
       "</table>\n",
       "<p>566 rows × 24 columns</p>\n",
       "</div>"
      ],
      "text/plain": [
       "             m/z     Intensity     resolution  issues  cluster  number  \\\n",
       "0     340.885709  6.461985e+08  241279.703125   False      150       0   \n",
       "1     341.220173  3.007582e+08  244628.937500   False      150       1   \n",
       "2     373.190300  1.242558e+10  233241.078125   False      199       0   \n",
       "3     374.193646  1.972783e+09  235001.218750   False      199       1   \n",
       "4     385.753269  3.492118e+08  224314.703125   False      220       0   \n",
       "..           ...           ...            ...     ...      ...     ...   \n",
       "561  1563.895280  2.102023e+08  108530.632812   False     2109       1   \n",
       "562  1675.974630  1.490847e+08  107425.664062   False     2192       0   \n",
       "563  1676.978170  1.271138e+08  105360.921875   False     2192       1   \n",
       "564  2033.125965  1.098032e+08   97172.039062   False     2295       0   \n",
       "565  2034.129050  1.242058e+08   93161.679688   False     2295       1   \n",
       "\n",
       "         rest     intensity       Mass  Charge  ...  Ions  PPMError Shift  \\\n",
       "0    0.000096  6.461985e+08  1019.6352       3  ...    y9 -0.034899     0   \n",
       "1    0.000135  3.007582e+08  1019.6352       3  ...    y9 -0.034899     0   \n",
       "2    0.000023  1.242558e+10   372.1830       1  ...    b3 -0.342904     0   \n",
       "3    0.000015  1.972783e+09   372.1830       1  ...    b3 -0.342904     0   \n",
       "4    0.000085  3.492118e+08   769.4919       2  ...    y7 -0.466554     0   \n",
       "..        ...           ...        ...     ...  ...   ...       ...   ...   \n",
       "561  0.001249  2.102023e+08  1561.8834       1  ...   b14 -4.348996     0   \n",
       "562  0.000354  1.490847e+08  1674.9670       1  ...   b15 -4.332607     0   \n",
       "563  0.000539  1.271138e+08  1674.9670       1  ...   b15 -4.332607     0   \n",
       "564 -0.000511  1.098032e+08  2032.1192       1  ...   b18 -4.261414     0   \n",
       "565 -0.000781  1.242058e+08  2032.1192       1  ...   b18 -4.261414     0   \n",
       "\n",
       "       TheorMass     Slope  Intercept   RSquare     Ratio      FWHM  \\\n",
       "0    1019.635236 -1.585853   6.976873 -0.999223  3.251067  0.001413   \n",
       "1    1019.635236 -1.589961   6.227196 -0.940514  4.117533  0.001395   \n",
       "2     372.183128 -0.705102   9.327137 -0.999796  1.728489  0.001600   \n",
       "3     372.183128 -0.845648   7.585471 -0.998761  1.989504  0.001592   \n",
       "4     769.492259 -1.492609   6.305540 -0.996121  3.386155  0.001720   \n",
       "..           ...       ...        ...       ...       ...       ...   \n",
       "561  1561.890193 -1.153688   5.580529 -0.986159  2.574061  0.014410   \n",
       "562  1674.974257 -1.015279   5.140671 -0.967207  2.143494  0.015601   \n",
       "563  1674.974257 -1.352125   5.204731 -0.970992  2.686987  0.015917   \n",
       "564  2032.127860 -1.781703   5.359344 -0.988488  4.319183  0.020923   \n",
       "565  2032.127860 -2.042389   5.618145 -0.988548  4.289287  0.021834   \n",
       "\n",
       "     FWHM Coeff  \n",
       "0      1.231739  \n",
       "1      1.220073  \n",
       "2      1.222414  \n",
       "3      1.215215  \n",
       "4      1.240856  \n",
       "..          ...  \n",
       "561    1.262498  \n",
       "562    1.242142  \n",
       "563    1.258065  \n",
       "564    1.245208  \n",
       "565    1.280477  \n",
       "\n",
       "[566 rows x 24 columns]"
      ]
     },
     "execution_count": 119,
     "metadata": {},
     "output_type": "execute_result"
    }
   ],
   "source": [
    "UbiSpec.TDACalc()"
   ]
  },
  {
   "cell_type": "code",
   "execution_count": 120,
   "id": "c4066996",
   "metadata": {},
   "outputs": [],
   "source": [
    "FRes=UbiSpec.RPeaks[UbiSpec.RPeaks[\"RSquare\"]<-0.85]"
   ]
  },
  {
   "cell_type": "code",
   "execution_count": 122,
   "id": "d64e1b72",
   "metadata": {},
   "outputs": [],
   "source": [
    "FWHMstd=np.std(FRes[\"FWHM Coeff\"])"
   ]
  },
  {
   "cell_type": "code",
   "execution_count": 123,
   "id": "d5241052",
   "metadata": {},
   "outputs": [],
   "source": [
    "FWHMmean=np.mean(FRes[\"FWHM Coeff\"])"
   ]
  },
  {
   "cell_type": "code",
   "execution_count": 124,
   "id": "2d1fa257",
   "metadata": {},
   "outputs": [],
   "source": [
    "FRes=FRes[(FRes[\"FWHM Coeff\"]<FWHMmean+3*FWHMstd) & (FRes[\"FWHM Coeff\"]>FWHMmean-3*FWHMstd)]"
   ]
  },
  {
   "cell_type": "code",
   "execution_count": 131,
   "id": "c44ecb72",
   "metadata": {},
   "outputs": [],
   "source": [
    "lr=LogisticReg(FRes,FWHM=True)\n",
    "Y,Y_Distr=lr.Apply(FRes)"
   ]
  },
  {
   "cell_type": "code",
   "execution_count": 137,
   "id": "14ce4a6d",
   "metadata": {},
   "outputs": [
    {
     "name": "stdout",
     "output_type": "stream",
     "text": [
      "Charge \tPeaks \t Mean \t Variance\n",
      "1 \t46 \t 1.230 \t 0.348\n",
      "2 \t80 \t 2.292 \t 0.504\n",
      "3 \t60 \t 2.951 \t 0.628\n",
      "4 \t65 \t 4.184 \t 0.929\n",
      "5 \t54 \t 5.242 \t 0.781\n",
      "6 \t79 \t 5.876 \t 0.699\n",
      "7 \t101 \t 6.699 \t 0.556\n",
      "8 \t36 \t 7.616 \t 0.451\n",
      "Resolution: 5.55\n"
     ]
    },
    {
     "data": {
      "image/png": "[encoded data removed]",
      "text/plain": [
       "<Figure size 864x432 with 1 Axes>"
      ]
     },
     "metadata": {
      "needs_background": "light"
     },
     "output_type": "display_data"
    }
   ],
   "source": [
    "ShowRes(Y,FRes[\"Charge\"],MaxCharge=8,GaussianHeght=5,fname=\"/results/Panel2-2.svg\")"
   ]
  },
  {
   "cell_type": "code",
   "execution_count": 133,
   "id": "1162925b",
   "metadata": {},
   "outputs": [],
   "source": [
    "lrm=MassLogisticReg(FRes,FWHM=True)\n",
    "FRes.reset_index(inplace=True,drop=True)\n",
    "Y_pred_mass,Y_pred_Distr=lrm.Apply(FRes)"
   ]
  },
  {
   "cell_type": "code",
   "execution_count": 138,
   "id": "d62085fe",
   "metadata": {},
   "outputs": [
    {
     "name": "stdout",
     "output_type": "stream",
     "text": [
      "Charge \tPeaks \t Mean \t Variance\n",
      "1 \t46 \t 1.163 \t 0.302\n",
      "2 \t80 \t 2.153 \t 0.496\n",
      "3 \t60 \t 3.056 \t 0.566\n",
      "4 \t65 \t 4.204 \t 0.803\n",
      "5 \t54 \t 5.275 \t 0.677\n",
      "6 \t79 \t 5.912 \t 0.683\n",
      "7 \t101 \t 6.739 \t 0.570\n",
      "8 \t36 \t 7.704 \t 0.415\n",
      "Resolution: 6.02\n"
     ]
    },
    {
     "data": {
      "image/png": "[encoded data removed]",
      "text/plain": [
       "<Figure size 864x432 with 1 Axes>"
      ]
     },
     "metadata": {
      "needs_background": "light"
     },
     "output_type": "display_data"
    }
   ],
   "source": [
    "ShowRes(Y_pred_mass,FRes[\"Charge\"],MaxCharge=8,GaussianHeght=7,fname=\"/results/PanelS1-1.svg\")"
   ]
  },
  {
   "cell_type": "markdown",
   "id": "f59b2569",
   "metadata": {},
   "source": [
    "### Figure 3"
   ]
  },
  {
   "cell_type": "code",
   "execution_count": 139,
   "id": "80c85d00",
   "metadata": {},
   "outputs": [],
   "source": [
    "F3Peaks = UbiSpec.peaks[(UbiSpec.peaks[\"m/z\"]>811.)&(UbiSpec.peaks[\"m/z\"]<813.5)]"
   ]
  },
  {
   "cell_type": "code",
   "execution_count": 140,
   "id": "4c37c2e8",
   "metadata": {},
   "outputs": [
    {
     "data": {
      "application/vnd.jupyter.widget-view+json": {
       "model_id": "bdf508dde1ab41819b666a840c218c5e",
       "version_major": 2,
       "version_minor": 0
      },
      "text/plain": [
       "HBox(children=(FloatProgress(value=0.0, max=145.0), HTML(value='')))"
      ]
     },
     "metadata": {},
     "output_type": "display_data"
    },
    {
     "name": "stdout",
     "output_type": "stream",
     "text": [
      "\n"
     ]
    },
    {
     "data": {
      "text/html": [
       "<div>\n",
       "<style scoped>\n",
       "    .dataframe tbody tr th:only-of-type {\n",
       "        vertical-align: middle;\n",
       "    }\n",
       "\n",
       "    .dataframe tbody tr th {\n",
       "        vertical-align: top;\n",
       "    }\n",
       "\n",
       "    .dataframe thead th {\n",
       "        text-align: right;\n",
       "    }\n",
       "</style>\n",
       "<table border=\"1\" class=\"dataframe\">\n",
       "  <thead>\n",
       "    <tr style=\"text-align: right;\">\n",
       "      <th></th>\n",
       "      <th>m/z</th>\n",
       "      <th>Intensity</th>\n",
       "      <th>resolution</th>\n",
       "      <th>issues</th>\n",
       "      <th>Slope</th>\n",
       "      <th>Intercept</th>\n",
       "      <th>RSquare</th>\n",
       "      <th>Ratio</th>\n",
       "      <th>FWHM</th>\n",
       "      <th>FWHM Coeff</th>\n",
       "    </tr>\n",
       "  </thead>\n",
       "  <tbody>\n",
       "    <tr>\n",
       "      <th>0</th>\n",
       "      <td>811.000369</td>\n",
       "      <td>11073826.0</td>\n",
       "      <td>112295.335938</td>\n",
       "      <td>False</td>\n",
       "      <td>-1.853775</td>\n",
       "      <td>3.106648</td>\n",
       "      <td>-0.564229</td>\n",
       "      <td>2.008479</td>\n",
       "      <td>0.007222</td>\n",
       "      <td>1.536173</td>\n",
       "    </tr>\n",
       "    <tr>\n",
       "      <th>1</th>\n",
       "      <td>811.015810</td>\n",
       "      <td>15308393.0</td>\n",
       "      <td>149533.843750</td>\n",
       "      <td>False</td>\n",
       "      <td>-1.232750</td>\n",
       "      <td>3.376879</td>\n",
       "      <td>-0.449407</td>\n",
       "      <td>0.947460</td>\n",
       "      <td>0.005424</td>\n",
       "      <td>1.269191</td>\n",
       "    </tr>\n",
       "    <tr>\n",
       "      <th>2</th>\n",
       "      <td>811.026462</td>\n",
       "      <td>16383418.0</td>\n",
       "      <td>84767.554688</td>\n",
       "      <td>False</td>\n",
       "      <td>-0.797391</td>\n",
       "      <td>3.065152</td>\n",
       "      <td>-0.388990</td>\n",
       "      <td>0.831827</td>\n",
       "      <td>0.009568</td>\n",
       "      <td>1.852885</td>\n",
       "    </tr>\n",
       "    <tr>\n",
       "      <th>3</th>\n",
       "      <td>811.038615</td>\n",
       "      <td>18650652.0</td>\n",
       "      <td>108112.375000</td>\n",
       "      <td>False</td>\n",
       "      <td>-0.548818</td>\n",
       "      <td>2.936804</td>\n",
       "      <td>-0.207647</td>\n",
       "      <td>0.886878</td>\n",
       "      <td>0.007502</td>\n",
       "      <td>1.575516</td>\n",
       "    </tr>\n",
       "    <tr>\n",
       "      <th>4</th>\n",
       "      <td>811.061247</td>\n",
       "      <td>24789634.0</td>\n",
       "      <td>98952.312500</td>\n",
       "      <td>True</td>\n",
       "      <td>-0.630289</td>\n",
       "      <td>3.144901</td>\n",
       "      <td>-0.235629</td>\n",
       "      <td>1.257322</td>\n",
       "      <td>0.008196</td>\n",
       "      <td>1.671280</td>\n",
       "    </tr>\n",
       "    <tr>\n",
       "      <th>...</th>\n",
       "      <td>...</td>\n",
       "      <td>...</td>\n",
       "      <td>...</td>\n",
       "      <td>...</td>\n",
       "      <td>...</td>\n",
       "      <td>...</td>\n",
       "      <td>...</td>\n",
       "      <td>...</td>\n",
       "      <td>...</td>\n",
       "      <td>...</td>\n",
       "    </tr>\n",
       "    <tr>\n",
       "      <th>140</th>\n",
       "      <td>813.431740</td>\n",
       "      <td>59008872.0</td>\n",
       "      <td>149421.734375</td>\n",
       "      <td>True</td>\n",
       "      <td>-2.276037</td>\n",
       "      <td>6.010942</td>\n",
       "      <td>-0.708846</td>\n",
       "      <td>2.510893</td>\n",
       "      <td>0.005444</td>\n",
       "      <td>1.268567</td>\n",
       "    </tr>\n",
       "    <tr>\n",
       "      <th>141</th>\n",
       "      <td>813.436310</td>\n",
       "      <td>90308640.0</td>\n",
       "      <td>137862.859375</td>\n",
       "      <td>True</td>\n",
       "      <td>-0.965857</td>\n",
       "      <td>5.518069</td>\n",
       "      <td>-0.506033</td>\n",
       "      <td>2.613813</td>\n",
       "      <td>0.005900</td>\n",
       "      <td>1.338509</td>\n",
       "    </tr>\n",
       "    <tr>\n",
       "      <th>142</th>\n",
       "      <td>813.444657</td>\n",
       "      <td>210898048.0</td>\n",
       "      <td>120966.281250</td>\n",
       "      <td>True</td>\n",
       "      <td>-1.656107</td>\n",
       "      <td>6.022179</td>\n",
       "      <td>-0.846966</td>\n",
       "      <td>2.669228</td>\n",
       "      <td>0.006725</td>\n",
       "      <td>1.460398</td>\n",
       "    </tr>\n",
       "    <tr>\n",
       "      <th>143</th>\n",
       "      <td>813.469686</td>\n",
       "      <td>67155960.0</td>\n",
       "      <td>97546.859375</td>\n",
       "      <td>False</td>\n",
       "      <td>-1.486775</td>\n",
       "      <td>4.679676</td>\n",
       "      <td>-0.535977</td>\n",
       "      <td>2.637422</td>\n",
       "      <td>0.008339</td>\n",
       "      <td>1.685627</td>\n",
       "    </tr>\n",
       "    <tr>\n",
       "      <th>144</th>\n",
       "      <td>813.485352</td>\n",
       "      <td>157134080.0</td>\n",
       "      <td>138867.203125</td>\n",
       "      <td>False</td>\n",
       "      <td>-1.110315</td>\n",
       "      <td>5.307817</td>\n",
       "      <td>-0.733263</td>\n",
       "      <td>3.194848</td>\n",
       "      <td>0.005858</td>\n",
       "      <td>1.332021</td>\n",
       "    </tr>\n",
       "  </tbody>\n",
       "</table>\n",
       "<p>145 rows × 10 columns</p>\n",
       "</div>"
      ],
      "text/plain": [
       "            m/z    Intensity     resolution  issues     Slope  Intercept  \\\n",
       "0    811.000369   11073826.0  112295.335938   False -1.853775   3.106648   \n",
       "1    811.015810   15308393.0  149533.843750   False -1.232750   3.376879   \n",
       "2    811.026462   16383418.0   84767.554688   False -0.797391   3.065152   \n",
       "3    811.038615   18650652.0  108112.375000   False -0.548818   2.936804   \n",
       "4    811.061247   24789634.0   98952.312500    True -0.630289   3.144901   \n",
       "..          ...          ...            ...     ...       ...        ...   \n",
       "140  813.431740   59008872.0  149421.734375    True -2.276037   6.010942   \n",
       "141  813.436310   90308640.0  137862.859375    True -0.965857   5.518069   \n",
       "142  813.444657  210898048.0  120966.281250    True -1.656107   6.022179   \n",
       "143  813.469686   67155960.0   97546.859375   False -1.486775   4.679676   \n",
       "144  813.485352  157134080.0  138867.203125   False -1.110315   5.307817   \n",
       "\n",
       "      RSquare     Ratio      FWHM  FWHM Coeff  \n",
       "0   -0.564229  2.008479  0.007222    1.536173  \n",
       "1   -0.449407  0.947460  0.005424    1.269191  \n",
       "2   -0.388990  0.831827  0.009568    1.852885  \n",
       "3   -0.207647  0.886878  0.007502    1.575516  \n",
       "4   -0.235629  1.257322  0.008196    1.671280  \n",
       "..        ...       ...       ...         ...  \n",
       "140 -0.708846  2.510893  0.005444    1.268567  \n",
       "141 -0.506033  2.613813  0.005900    1.338509  \n",
       "142 -0.846966  2.669228  0.006725    1.460398  \n",
       "143 -0.535977  2.637422  0.008339    1.685627  \n",
       "144 -0.733263  3.194848  0.005858    1.332021  \n",
       "\n",
       "[145 rows x 10 columns]"
      ]
     },
     "execution_count": 140,
     "metadata": {},
     "output_type": "execute_result"
    }
   ],
   "source": [
    "F3Peaks=UbiSpec.TDACalc(Peaks=F3Peaks)"
   ]
  },
  {
   "cell_type": "code",
   "execution_count": 142,
   "id": "78499fd9",
   "metadata": {},
   "outputs": [],
   "source": [
    "lr=MassLogisticReg(FRes,FWHM=True)\n",
    "F3Peaks=lr.Estimate(F3Peaks)"
   ]
  },
  {
   "cell_type": "code",
   "execution_count": 150,
   "id": "48923467",
   "metadata": {},
   "outputs": [
    {
     "name": "stdout",
     "output_type": "stream",
     "text": [
      "-0.875 7.875\n"
     ]
    },
    {
     "data": {
      "image/png": "[encoded data removed]",
      "text/plain": [
       "<Figure size 1296x432 with 2 Axes>"
      ]
     },
     "metadata": {
      "needs_background": "light"
     },
     "output_type": "display_data"
    }
   ],
   "source": [
    "UbiSpec.RainbowSpectrum(811,813.3,F3Peaks,maxCharge=8,svg=True,Name=\"/results/Panel3-1\")"
   ]
  },
  {
   "cell_type": "code",
   "execution_count": 144,
   "id": "bef20c1b",
   "metadata": {},
   "outputs": [],
   "source": [
    "lowPeaks=F3Peaks[F3Peaks[\"Aver\"]<4.]\n",
    "highPeaks=F3Peaks[F3Peaks[\"Aver\"]>5.]\n",
    "midPeaks=F3Peaks[F3Peaks[\"Aver\"]<6.]\n",
    "midPeaks=midPeaks[midPeaks[\"Aver\"]>3.]"
   ]
  },
  {
   "cell_type": "code",
   "execution_count": 152,
   "id": "9b4f3397",
   "metadata": {},
   "outputs": [],
   "source": [
    "plt.rcParams[\"figure.figsize\"] = (8,5)"
   ]
  },
  {
   "cell_type": "code",
   "execution_count": 153,
   "id": "eeb7830d",
   "metadata": {},
   "outputs": [],
   "source": [
    "F3MaxInt=np.max(F3Peaks[\"Intensity\"])"
   ]
  },
  {
   "cell_type": "code",
   "execution_count": 154,
   "id": "137830ab",
   "metadata": {},
   "outputs": [
    {
     "data": {
      "image/png": "[encoded data removed]",
      "text/plain": [
       "<Figure size 576x360 with 1 Axes>"
      ]
     },
     "metadata": {
      "needs_background": "light"
     },
     "output_type": "display_data"
    }
   ],
   "source": [
    "fig, ax = plt.subplots()\n",
    "ax.set_xlabel(\"m/z\")\n",
    "ax.set_ylabel(\"Abundance, %\")\n",
    "ax.set_xlim(811.,813.3)\n",
    "ax.stem(lowPeaks[\"m/z\"],(lowPeaks[\"Intensity\"]/F3MaxInt)*100.,\"C1\",markerfmt=\" \", basefmt=\"C0\")\n",
    "plt.savefig(\"/results/Panel3-2.svg\")\n",
    "plt.show()"
   ]
  },
  {
   "cell_type": "code",
   "execution_count": 155,
   "id": "416af66f",
   "metadata": {},
   "outputs": [
    {
     "data": {
      "image/png": "[encoded data removed]",
      "text/plain": [
       "<Figure size 576x360 with 1 Axes>"
      ]
     },
     "metadata": {
      "needs_background": "light"
     },
     "output_type": "display_data"
    }
   ],
   "source": [
    "fig, ax = plt.subplots()\n",
    "ax.set_xlabel(\"m/z\")\n",
    "ax.set_ylabel(\"Abundance, %\")\n",
    "ax.set_xlim(811.,813.3)\n",
    "ax.stem(midPeaks[\"m/z\"],(midPeaks[\"Intensity\"]/F3MaxInt)*100.,\"C2\",markerfmt=\" \", basefmt=\"C0\")\n",
    "plt.savefig(\"/results/Panel3-3.svg\")\n",
    "plt.show()"
   ]
  },
  {
   "cell_type": "code",
   "execution_count": 156,
   "id": "97438471",
   "metadata": {},
   "outputs": [
    {
     "data": {
      "image/png": "[encoded data removed]",
      "text/plain": [
       "<Figure size 576x360 with 1 Axes>"
      ]
     },
     "metadata": {
      "needs_background": "light"
     },
     "output_type": "display_data"
    }
   ],
   "source": [
    "fig, ax = plt.subplots()\n",
    "ax.set_xlabel(\"m/z\")\n",
    "ax.set_ylabel(\"Abundance, %\")\n",
    "ax.set_xlim(811.,813.3)\n",
    "ax.stem(highPeaks[\"m/z\"],(highPeaks[\"Intensity\"]/F3MaxInt)*100.,\"C3\",markerfmt=\" \", basefmt=\"C0\")\n",
    "plt.savefig(\"/results/Panel3-4.svg\")\n",
    "plt.show()"
   ]
  },
  {
   "cell_type": "markdown",
   "id": "06e57d4f",
   "metadata": {},
   "source": [
    "### Figure 4"
   ]
  },
  {
   "cell_type": "code",
   "execution_count": 158,
   "id": "7b8a4603",
   "metadata": {},
   "outputs": [],
   "source": [
    "myhf=h5py.File(\"/data/CAH_MYO_NEO_averaged_transient_1.0s.h5\",\"r\")"
   ]
  },
  {
   "cell_type": "code",
   "execution_count": 159,
   "id": "9b7186d7",
   "metadata": {},
   "outputs": [],
   "source": [
    "CAHSingle=FullSpectrum((myhf[\"0\"][:])[1000:4100000])"
   ]
  },
  {
   "cell_type": "code",
   "execution_count": 160,
   "id": "d84eb06d",
   "metadata": {},
   "outputs": [],
   "source": [
    "CAHSingle.PeakPick(119,2600,sn=3.)\n",
    "CAHSingle.CheckIssues()\n",
    "CAHSingle.RunHardKlor(charge_min=1,charge_max=40)"
   ]
  },
  {
   "cell_type": "code",
   "execution_count": 161,
   "id": "dd790f11",
   "metadata": {},
   "outputs": [],
   "source": [
    "CAHSingle.Clusters.at[18,\"Mass\"]=29006.48\n",
    "CAHSingle.Clusters.at[18,\"Charge\"]=34\n",
    "CAHSingle.Clusters.at[47,\"Mass\"]=29006.48\n",
    "CAHSingle.Clusters.at[47,\"Charge\"]=28\n",
    "CAHSingle.Clusters.at[55,\"Mass\"]=29006.48\n",
    "CAHSingle.Clusters.at[55,\"Charge\"]=26\n",
    "CAHSingle.Clusters=CAHSingle.Clusters.drop([19,48])"
   ]
  },
  {
   "cell_type": "code",
   "execution_count": 162,
   "id": "76f321ef",
   "metadata": {},
   "outputs": [
    {
     "data": {
      "application/vnd.jupyter.widget-view+json": {
       "model_id": "1359c441f3554052b627cb1fb831617f",
       "version_major": 2,
       "version_minor": 0
      },
      "text/plain": [
       "HBox(children=(FloatProgress(value=0.0, max=641.0), HTML(value='')))"
      ]
     },
     "metadata": {},
     "output_type": "display_data"
    },
    {
     "name": "stdout",
     "output_type": "stream",
     "text": [
      "\n"
     ]
    }
   ],
   "source": [
    "_ = CAHSingle.TDACalc(Peaks=CAHSingle.peaks)"
   ]
  },
  {
   "cell_type": "code",
   "execution_count": 170,
   "id": "37558aad",
   "metadata": {},
   "outputs": [
    {
     "data": {
      "text/html": [
       "<div>\n",
       "<style scoped>\n",
       "    .dataframe tbody tr th:only-of-type {\n",
       "        vertical-align: middle;\n",
       "    }\n",
       "\n",
       "    .dataframe tbody tr th {\n",
       "        vertical-align: top;\n",
       "    }\n",
       "\n",
       "    .dataframe thead th {\n",
       "        text-align: right;\n",
       "    }\n",
       "</style>\n",
       "<table border=\"1\" class=\"dataframe\">\n",
       "  <thead>\n",
       "    <tr style=\"text-align: right;\">\n",
       "      <th></th>\n",
       "      <th>m/z</th>\n",
       "      <th>Intensity</th>\n",
       "      <th>resolution</th>\n",
       "      <th>issues</th>\n",
       "      <th>Slope</th>\n",
       "      <th>Intercept</th>\n",
       "      <th>RSquare</th>\n",
       "      <th>Ratio</th>\n",
       "      <th>FWHM</th>\n",
       "      <th>FWHM Coeff</th>\n",
       "      <th>Aver</th>\n",
       "      <th>Sigma</th>\n",
       "    </tr>\n",
       "  </thead>\n",
       "  <tbody>\n",
       "    <tr>\n",
       "      <th>0</th>\n",
       "      <td>121.187087</td>\n",
       "      <td>14942.633789</td>\n",
       "      <td>202199.765625</td>\n",
       "      <td>False</td>\n",
       "      <td>2.864288</td>\n",
       "      <td>-5.978208</td>\n",
       "      <td>0.657735</td>\n",
       "      <td>0.942453</td>\n",
       "      <td>0.000599</td>\n",
       "      <td>1.956235</td>\n",
       "      <td>1.000000</td>\n",
       "      <td>0.000180</td>\n",
       "    </tr>\n",
       "    <tr>\n",
       "      <th>1</th>\n",
       "      <td>121.190207</td>\n",
       "      <td>19405.539062</td>\n",
       "      <td>142267.265625</td>\n",
       "      <td>False</td>\n",
       "      <td>1.625097</td>\n",
       "      <td>-4.722872</td>\n",
       "      <td>0.362756</td>\n",
       "      <td>1.022665</td>\n",
       "      <td>0.000852</td>\n",
       "      <td>2.472811</td>\n",
       "      <td>1.001306</td>\n",
       "      <td>0.036116</td>\n",
       "    </tr>\n",
       "    <tr>\n",
       "      <th>2</th>\n",
       "      <td>122.393172</td>\n",
       "      <td>11865.750000</td>\n",
       "      <td>177428.453125</td>\n",
       "      <td>False</td>\n",
       "      <td>1.918244</td>\n",
       "      <td>-5.690652</td>\n",
       "      <td>0.529247</td>\n",
       "      <td>0.989432</td>\n",
       "      <td>0.000690</td>\n",
       "      <td>2.127265</td>\n",
       "      <td>1.000002</td>\n",
       "      <td>0.001368</td>\n",
       "    </tr>\n",
       "    <tr>\n",
       "      <th>3</th>\n",
       "      <td>123.236673</td>\n",
       "      <td>12012.008789</td>\n",
       "      <td>183907.687500</td>\n",
       "      <td>False</td>\n",
       "      <td>1.814318</td>\n",
       "      <td>-5.355702</td>\n",
       "      <td>0.433263</td>\n",
       "      <td>1.055415</td>\n",
       "      <td>0.000670</td>\n",
       "      <td>2.072258</td>\n",
       "      <td>1.000004</td>\n",
       "      <td>0.001884</td>\n",
       "    </tr>\n",
       "    <tr>\n",
       "      <th>4</th>\n",
       "      <td>125.384429</td>\n",
       "      <td>11657.380859</td>\n",
       "      <td>170463.687500</td>\n",
       "      <td>False</td>\n",
       "      <td>1.034177</td>\n",
       "      <td>-5.490046</td>\n",
       "      <td>0.272061</td>\n",
       "      <td>1.226290</td>\n",
       "      <td>0.000736</td>\n",
       "      <td>2.167297</td>\n",
       "      <td>1.000804</td>\n",
       "      <td>0.028338</td>\n",
       "    </tr>\n",
       "    <tr>\n",
       "      <th>...</th>\n",
       "      <td>...</td>\n",
       "      <td>...</td>\n",
       "      <td>...</td>\n",
       "      <td>...</td>\n",
       "      <td>...</td>\n",
       "      <td>...</td>\n",
       "      <td>...</td>\n",
       "      <td>...</td>\n",
       "      <td>...</td>\n",
       "      <td>...</td>\n",
       "      <td>...</td>\n",
       "      <td>...</td>\n",
       "    </tr>\n",
       "    <tr>\n",
       "      <th>636</th>\n",
       "      <td>1713.864026</td>\n",
       "      <td>50831.425781</td>\n",
       "      <td>74767.242188</td>\n",
       "      <td>False</td>\n",
       "      <td>0.700445</td>\n",
       "      <td>-3.539853</td>\n",
       "      <td>0.296738</td>\n",
       "      <td>1.576326</td>\n",
       "      <td>0.022923</td>\n",
       "      <td>1.569839</td>\n",
       "      <td>1.475074</td>\n",
       "      <td>0.499378</td>\n",
       "    </tr>\n",
       "    <tr>\n",
       "      <th>637</th>\n",
       "      <td>1780.499988</td>\n",
       "      <td>18828.687500</td>\n",
       "      <td>48751.753906</td>\n",
       "      <td>False</td>\n",
       "      <td>1.002899</td>\n",
       "      <td>-4.466721</td>\n",
       "      <td>0.264045</td>\n",
       "      <td>1.516870</td>\n",
       "      <td>0.036522</td>\n",
       "      <td>2.061265</td>\n",
       "      <td>1.006518</td>\n",
       "      <td>0.080473</td>\n",
       "    </tr>\n",
       "    <tr>\n",
       "      <th>638</th>\n",
       "      <td>2343.934528</td>\n",
       "      <td>18149.503906</td>\n",
       "      <td>44581.167969</td>\n",
       "      <td>False</td>\n",
       "      <td>1.396708</td>\n",
       "      <td>-4.757482</td>\n",
       "      <td>0.323332</td>\n",
       "      <td>1.155682</td>\n",
       "      <td>0.052577</td>\n",
       "      <td>1.996248</td>\n",
       "      <td>1.001086</td>\n",
       "      <td>0.032930</td>\n",
       "    </tr>\n",
       "    <tr>\n",
       "      <th>639</th>\n",
       "      <td>2344.098697</td>\n",
       "      <td>19843.103516</td>\n",
       "      <td>46863.804688</td>\n",
       "      <td>False</td>\n",
       "      <td>3.210694</td>\n",
       "      <td>-5.677645</td>\n",
       "      <td>0.756811</td>\n",
       "      <td>0.689834</td>\n",
       "      <td>0.050019</td>\n",
       "      <td>1.930850</td>\n",
       "      <td>1.000001</td>\n",
       "      <td>0.000780</td>\n",
       "    </tr>\n",
       "    <tr>\n",
       "      <th>640</th>\n",
       "      <td>2344.942376</td>\n",
       "      <td>18447.125000</td>\n",
       "      <td>53239.234375</td>\n",
       "      <td>False</td>\n",
       "      <td>1.564046</td>\n",
       "      <td>-5.040114</td>\n",
       "      <td>0.416355</td>\n",
       "      <td>0.968342</td>\n",
       "      <td>0.044045</td>\n",
       "      <td>1.773252</td>\n",
       "      <td>1.000566</td>\n",
       "      <td>0.023776</td>\n",
       "    </tr>\n",
       "  </tbody>\n",
       "</table>\n",
       "<p>641 rows × 12 columns</p>\n",
       "</div>"
      ],
      "text/plain": [
       "             m/z     Intensity     resolution  issues     Slope  Intercept  \\\n",
       "0     121.187087  14942.633789  202199.765625   False  2.864288  -5.978208   \n",
       "1     121.190207  19405.539062  142267.265625   False  1.625097  -4.722872   \n",
       "2     122.393172  11865.750000  177428.453125   False  1.918244  -5.690652   \n",
       "3     123.236673  12012.008789  183907.687500   False  1.814318  -5.355702   \n",
       "4     125.384429  11657.380859  170463.687500   False  1.034177  -5.490046   \n",
       "..           ...           ...            ...     ...       ...        ...   \n",
       "636  1713.864026  50831.425781   74767.242188   False  0.700445  -3.539853   \n",
       "637  1780.499988  18828.687500   48751.753906   False  1.002899  -4.466721   \n",
       "638  2343.934528  18149.503906   44581.167969   False  1.396708  -4.757482   \n",
       "639  2344.098697  19843.103516   46863.804688   False  3.210694  -5.677645   \n",
       "640  2344.942376  18447.125000   53239.234375   False  1.564046  -5.040114   \n",
       "\n",
       "      RSquare     Ratio      FWHM  FWHM Coeff      Aver     Sigma  \n",
       "0    0.657735  0.942453  0.000599    1.956235  1.000000  0.000180  \n",
       "1    0.362756  1.022665  0.000852    2.472811  1.001306  0.036116  \n",
       "2    0.529247  0.989432  0.000690    2.127265  1.000002  0.001368  \n",
       "3    0.433263  1.055415  0.000670    2.072258  1.000004  0.001884  \n",
       "4    0.272061  1.226290  0.000736    2.167297  1.000804  0.028338  \n",
       "..        ...       ...       ...         ...       ...       ...  \n",
       "636  0.296738  1.576326  0.022923    1.569839  1.475074  0.499378  \n",
       "637  0.264045  1.516870  0.036522    2.061265  1.006518  0.080473  \n",
       "638  0.323332  1.155682  0.052577    1.996248  1.001086  0.032930  \n",
       "639  0.756811  0.689834  0.050019    1.930850  1.000001  0.000780  \n",
       "640  0.416355  0.968342  0.044045    1.773252  1.000566  0.023776  \n",
       "\n",
       "[641 rows x 12 columns]"
      ]
     },
     "execution_count": 170,
     "metadata": {},
     "output_type": "execute_result"
    }
   ],
   "source": [
    "CAHSingle.peaks"
   ]
  },
  {
   "cell_type": "code",
   "execution_count": 168,
   "id": "458f35b7",
   "metadata": {},
   "outputs": [
    {
     "data": {
      "text/html": [
       "<div>\n",
       "<style scoped>\n",
       "    .dataframe tbody tr th:only-of-type {\n",
       "        vertical-align: middle;\n",
       "    }\n",
       "\n",
       "    .dataframe tbody tr th {\n",
       "        vertical-align: top;\n",
       "    }\n",
       "\n",
       "    .dataframe thead th {\n",
       "        text-align: right;\n",
       "    }\n",
       "</style>\n",
       "<table border=\"1\" class=\"dataframe\">\n",
       "  <thead>\n",
       "    <tr style=\"text-align: right;\">\n",
       "      <th></th>\n",
       "      <th>Mass</th>\n",
       "      <th>Charge</th>\n",
       "      <th>Abundance</th>\n",
       "      <th>Base Peak</th>\n",
       "      <th>Interval</th>\n",
       "      <th>Correlation</th>\n",
       "    </tr>\n",
       "  </thead>\n",
       "  <tbody>\n",
       "    <tr>\n",
       "      <th>0</th>\n",
       "      <td>1744.3646</td>\n",
       "      <td>7</td>\n",
       "      <td>27347360</td>\n",
       "      <td>250.2023</td>\n",
       "      <td>250.0336-251.0540</td>\n",
       "      <td>0.9270</td>\n",
       "    </tr>\n",
       "    <tr>\n",
       "      <th>1</th>\n",
       "      <td>250.0959</td>\n",
       "      <td>1</td>\n",
       "      <td>143416720</td>\n",
       "      <td>251.1032</td>\n",
       "      <td>250.9725-253.2930</td>\n",
       "      <td>0.9993</td>\n",
       "    </tr>\n",
       "    <tr>\n",
       "      <th>2</th>\n",
       "      <td>250.1435</td>\n",
       "      <td>1</td>\n",
       "      <td>109707600</td>\n",
       "      <td>251.1508</td>\n",
       "      <td>250.9725-253.2930</td>\n",
       "      <td>0.9997</td>\n",
       "    </tr>\n",
       "    <tr>\n",
       "      <th>3</th>\n",
       "      <td>251.1275</td>\n",
       "      <td>1</td>\n",
       "      <td>50028624</td>\n",
       "      <td>252.1348</td>\n",
       "      <td>252.0274-254.2632</td>\n",
       "      <td>0.9915</td>\n",
       "    </tr>\n",
       "    <tr>\n",
       "      <th>4</th>\n",
       "      <td>2514.4808</td>\n",
       "      <td>10</td>\n",
       "      <td>31059504</td>\n",
       "      <td>252.6559</td>\n",
       "      <td>252.3436-253.1664</td>\n",
       "      <td>0.9867</td>\n",
       "    </tr>\n",
       "    <tr>\n",
       "      <th>5</th>\n",
       "      <td>1510.9164</td>\n",
       "      <td>6</td>\n",
       "      <td>24641598</td>\n",
       "      <td>252.8267</td>\n",
       "      <td>252.7086-253.7892</td>\n",
       "      <td>0.9993</td>\n",
       "    </tr>\n",
       "    <tr>\n",
       "      <th>6</th>\n",
       "      <td>1767.6049</td>\n",
       "      <td>7</td>\n",
       "      <td>24777122</td>\n",
       "      <td>253.5223</td>\n",
       "      <td>253.4140-254.3926</td>\n",
       "      <td>0.9293</td>\n",
       "    </tr>\n",
       "    <tr>\n",
       "      <th>7</th>\n",
       "      <td>253.1431</td>\n",
       "      <td>1</td>\n",
       "      <td>301511584</td>\n",
       "      <td>254.1504</td>\n",
       "      <td>253.9746-256.3162</td>\n",
       "      <td>0.9992</td>\n",
       "    </tr>\n",
       "    <tr>\n",
       "      <th>8</th>\n",
       "      <td>2026.0798</td>\n",
       "      <td>8</td>\n",
       "      <td>139584400</td>\n",
       "      <td>254.3926</td>\n",
       "      <td>254.1504-254.9976</td>\n",
       "      <td>0.9874</td>\n",
       "    </tr>\n",
       "    <tr>\n",
       "      <th>9</th>\n",
       "      <td>254.1999</td>\n",
       "      <td>1</td>\n",
       "      <td>62429548</td>\n",
       "      <td>255.2072</td>\n",
       "      <td>255.0365-257.3868</td>\n",
       "      <td>0.9843</td>\n",
       "    </tr>\n",
       "    <tr>\n",
       "      <th>10</th>\n",
       "      <td>1271.3499</td>\n",
       "      <td>5</td>\n",
       "      <td>24025430</td>\n",
       "      <td>255.4778</td>\n",
       "      <td>255.1537-256.1868</td>\n",
       "      <td>0.9682</td>\n",
       "    </tr>\n",
       "    <tr>\n",
       "      <th>11</th>\n",
       "      <td>256.1064</td>\n",
       "      <td>1</td>\n",
       "      <td>144112080</td>\n",
       "      <td>257.1137</td>\n",
       "      <td>256.9426-259.2208</td>\n",
       "      <td>1.0000</td>\n",
       "    </tr>\n",
       "    <tr>\n",
       "      <th>12</th>\n",
       "      <td>256.1540</td>\n",
       "      <td>1</td>\n",
       "      <td>739812800</td>\n",
       "      <td>257.1613</td>\n",
       "      <td>257.0566-259.2729</td>\n",
       "      <td>0.9992</td>\n",
       "    </tr>\n",
       "    <tr>\n",
       "      <th>13</th>\n",
       "      <td>257.1017</td>\n",
       "      <td>1</td>\n",
       "      <td>153561232</td>\n",
       "      <td>258.1090</td>\n",
       "      <td>257.9948-260.2400</td>\n",
       "      <td>0.9999</td>\n",
       "    </tr>\n",
       "    <tr>\n",
       "      <th>14</th>\n",
       "      <td>257.1380</td>\n",
       "      <td>1</td>\n",
       "      <td>278257888</td>\n",
       "      <td>258.1453</td>\n",
       "      <td>258.0388-260.2513</td>\n",
       "      <td>0.9995</td>\n",
       "    </tr>\n",
       "    <tr>\n",
       "      <th>15</th>\n",
       "      <td>1547.2821</td>\n",
       "      <td>6</td>\n",
       "      <td>23553482</td>\n",
       "      <td>259.0547</td>\n",
       "      <td>258.6583-259.8347</td>\n",
       "      <td>0.9918</td>\n",
       "    </tr>\n",
       "    <tr>\n",
       "      <th>16</th>\n",
       "      <td>1291.3458</td>\n",
       "      <td>5</td>\n",
       "      <td>20171804</td>\n",
       "      <td>259.2765</td>\n",
       "      <td>259.1683-260.1962</td>\n",
       "      <td>0.9850</td>\n",
       "    </tr>\n",
       "    <tr>\n",
       "      <th>17</th>\n",
       "      <td>259.0809</td>\n",
       "      <td>1</td>\n",
       "      <td>62108064</td>\n",
       "      <td>260.0882</td>\n",
       "      <td>259.9809-262.2450</td>\n",
       "      <td>0.9286</td>\n",
       "    </tr>\n",
       "    <tr>\n",
       "      <th>18</th>\n",
       "      <td>29006.4800</td>\n",
       "      <td>34</td>\n",
       "      <td>55379963904</td>\n",
       "      <td>260.1068</td>\n",
       "      <td>259.9926-261.2102</td>\n",
       "      <td>0.9902</td>\n",
       "    </tr>\n",
       "    <tr>\n",
       "      <th>20</th>\n",
       "      <td>260.1529</td>\n",
       "      <td>1</td>\n",
       "      <td>3566612992</td>\n",
       "      <td>261.1602</td>\n",
       "      <td>261.0070-263.3132</td>\n",
       "      <td>0.9996</td>\n",
       "    </tr>\n",
       "    <tr>\n",
       "      <th>21</th>\n",
       "      <td>522.1906</td>\n",
       "      <td>2</td>\n",
       "      <td>1851624320</td>\n",
       "      <td>262.1026</td>\n",
       "      <td>261.9983-263.3132</td>\n",
       "      <td>0.9998</td>\n",
       "    </tr>\n",
       "    <tr>\n",
       "      <th>22</th>\n",
       "      <td>261.1037</td>\n",
       "      <td>1</td>\n",
       "      <td>148997952</td>\n",
       "      <td>262.1110</td>\n",
       "      <td>261.9983-264.3070</td>\n",
       "      <td>0.9999</td>\n",
       "    </tr>\n",
       "    <tr>\n",
       "      <th>23</th>\n",
       "      <td>261.9684</td>\n",
       "      <td>1</td>\n",
       "      <td>13995228</td>\n",
       "      <td>262.9756</td>\n",
       "      <td>262.8656-265.0884</td>\n",
       "      <td>0.9004</td>\n",
       "    </tr>\n",
       "    <tr>\n",
       "      <th>24</th>\n",
       "      <td>262.0925</td>\n",
       "      <td>1</td>\n",
       "      <td>19627352</td>\n",
       "      <td>263.0998</td>\n",
       "      <td>262.9756-265.2846</td>\n",
       "      <td>0.9423</td>\n",
       "    </tr>\n",
       "    <tr>\n",
       "      <th>25</th>\n",
       "      <td>1575.8003</td>\n",
       "      <td>6</td>\n",
       "      <td>20738774</td>\n",
       "      <td>263.6407</td>\n",
       "      <td>263.5393-264.6188</td>\n",
       "      <td>0.9983</td>\n",
       "    </tr>\n",
       "    <tr>\n",
       "      <th>26</th>\n",
       "      <td>4207.5583</td>\n",
       "      <td>16</td>\n",
       "      <td>45317644</td>\n",
       "      <td>264.1677</td>\n",
       "      <td>263.8079-264.6188</td>\n",
       "      <td>0.9365</td>\n",
       "    </tr>\n",
       "    <tr>\n",
       "      <th>27</th>\n",
       "      <td>1577.9821</td>\n",
       "      <td>6</td>\n",
       "      <td>34264332</td>\n",
       "      <td>264.1714</td>\n",
       "      <td>263.8079-264.9567</td>\n",
       "      <td>0.9728</td>\n",
       "    </tr>\n",
       "    <tr>\n",
       "      <th>28</th>\n",
       "      <td>1319.8960</td>\n",
       "      <td>5</td>\n",
       "      <td>25856008</td>\n",
       "      <td>265.1870</td>\n",
       "      <td>264.8825-265.9006</td>\n",
       "      <td>0.9401</td>\n",
       "    </tr>\n",
       "    <tr>\n",
       "      <th>29</th>\n",
       "      <td>1058.5697</td>\n",
       "      <td>4</td>\n",
       "      <td>104538624</td>\n",
       "      <td>265.6497</td>\n",
       "      <td>265.4878-266.5143</td>\n",
       "      <td>0.9981</td>\n",
       "    </tr>\n",
       "    <tr>\n",
       "      <th>30</th>\n",
       "      <td>1589.8552</td>\n",
       "      <td>6</td>\n",
       "      <td>36592392</td>\n",
       "      <td>266.1502</td>\n",
       "      <td>265.8625-266.9364</td>\n",
       "      <td>0.9702</td>\n",
       "    </tr>\n",
       "    <tr>\n",
       "      <th>31</th>\n",
       "      <td>1063.2612</td>\n",
       "      <td>4</td>\n",
       "      <td>23573842</td>\n",
       "      <td>267.0733</td>\n",
       "      <td>266.6806-267.7584</td>\n",
       "      <td>0.9273</td>\n",
       "    </tr>\n",
       "    <tr>\n",
       "      <th>32</th>\n",
       "      <td>266.1747</td>\n",
       "      <td>1</td>\n",
       "      <td>21003058</td>\n",
       "      <td>267.1819</td>\n",
       "      <td>267.0733-269.3201</td>\n",
       "      <td>0.9785</td>\n",
       "    </tr>\n",
       "    <tr>\n",
       "      <th>33</th>\n",
       "      <td>267.0859</td>\n",
       "      <td>1</td>\n",
       "      <td>64913196</td>\n",
       "      <td>268.0932</td>\n",
       "      <td>267.9832-270.3104</td>\n",
       "      <td>0.9891</td>\n",
       "    </tr>\n",
       "    <tr>\n",
       "      <th>34</th>\n",
       "      <td>1068.5562</td>\n",
       "      <td>4</td>\n",
       "      <td>22568870</td>\n",
       "      <td>268.1463</td>\n",
       "      <td>268.0428-269.0434</td>\n",
       "      <td>0.9674</td>\n",
       "    </tr>\n",
       "    <tr>\n",
       "      <th>35</th>\n",
       "      <td>1607.7396</td>\n",
       "      <td>6</td>\n",
       "      <td>26092912</td>\n",
       "      <td>268.9639</td>\n",
       "      <td>268.7956-269.9211</td>\n",
       "      <td>0.9944</td>\n",
       "    </tr>\n",
       "    <tr>\n",
       "      <th>36</th>\n",
       "      <td>268.1539</td>\n",
       "      <td>1</td>\n",
       "      <td>126371272</td>\n",
       "      <td>269.1612</td>\n",
       "      <td>269.0434-271.2708</td>\n",
       "      <td>0.9999</td>\n",
       "    </tr>\n",
       "    <tr>\n",
       "      <th>37</th>\n",
       "      <td>1344.4573</td>\n",
       "      <td>5</td>\n",
       "      <td>25304142</td>\n",
       "      <td>269.8987</td>\n",
       "      <td>269.7829-270.8879</td>\n",
       "      <td>0.9998</td>\n",
       "    </tr>\n",
       "    <tr>\n",
       "      <th>38</th>\n",
       "      <td>1080.0868</td>\n",
       "      <td>4</td>\n",
       "      <td>24207478</td>\n",
       "      <td>271.0290</td>\n",
       "      <td>270.8909-271.9078</td>\n",
       "      <td>0.9990</td>\n",
       "    </tr>\n",
       "    <tr>\n",
       "      <th>39</th>\n",
       "      <td>810.4751</td>\n",
       "      <td>3</td>\n",
       "      <td>79524328</td>\n",
       "      <td>271.1656</td>\n",
       "      <td>271.0315-272.3166</td>\n",
       "      <td>0.9977</td>\n",
       "    </tr>\n",
       "    <tr>\n",
       "      <th>40</th>\n",
       "      <td>271.1536</td>\n",
       "      <td>1</td>\n",
       "      <td>228070464</td>\n",
       "      <td>272.1609</td>\n",
       "      <td>272.0521-274.3150</td>\n",
       "      <td>1.0000</td>\n",
       "    </tr>\n",
       "  </tbody>\n",
       "</table>\n",
       "</div>"
      ],
      "text/plain": [
       "          Mass  Charge    Abundance  Base Peak           Interval  Correlation\n",
       "0    1744.3646       7     27347360   250.2023  250.0336-251.0540       0.9270\n",
       "1     250.0959       1    143416720   251.1032  250.9725-253.2930       0.9993\n",
       "2     250.1435       1    109707600   251.1508  250.9725-253.2930       0.9997\n",
       "3     251.1275       1     50028624   252.1348  252.0274-254.2632       0.9915\n",
       "4    2514.4808      10     31059504   252.6559  252.3436-253.1664       0.9867\n",
       "5    1510.9164       6     24641598   252.8267  252.7086-253.7892       0.9993\n",
       "6    1767.6049       7     24777122   253.5223  253.4140-254.3926       0.9293\n",
       "7     253.1431       1    301511584   254.1504  253.9746-256.3162       0.9992\n",
       "8    2026.0798       8    139584400   254.3926  254.1504-254.9976       0.9874\n",
       "9     254.1999       1     62429548   255.2072  255.0365-257.3868       0.9843\n",
       "10   1271.3499       5     24025430   255.4778  255.1537-256.1868       0.9682\n",
       "11    256.1064       1    144112080   257.1137  256.9426-259.2208       1.0000\n",
       "12    256.1540       1    739812800   257.1613  257.0566-259.2729       0.9992\n",
       "13    257.1017       1    153561232   258.1090  257.9948-260.2400       0.9999\n",
       "14    257.1380       1    278257888   258.1453  258.0388-260.2513       0.9995\n",
       "15   1547.2821       6     23553482   259.0547  258.6583-259.8347       0.9918\n",
       "16   1291.3458       5     20171804   259.2765  259.1683-260.1962       0.9850\n",
       "17    259.0809       1     62108064   260.0882  259.9809-262.2450       0.9286\n",
       "18  29006.4800      34  55379963904   260.1068  259.9926-261.2102       0.9902\n",
       "20    260.1529       1   3566612992   261.1602  261.0070-263.3132       0.9996\n",
       "21    522.1906       2   1851624320   262.1026  261.9983-263.3132       0.9998\n",
       "22    261.1037       1    148997952   262.1110  261.9983-264.3070       0.9999\n",
       "23    261.9684       1     13995228   262.9756  262.8656-265.0884       0.9004\n",
       "24    262.0925       1     19627352   263.0998  262.9756-265.2846       0.9423\n",
       "25   1575.8003       6     20738774   263.6407  263.5393-264.6188       0.9983\n",
       "26   4207.5583      16     45317644   264.1677  263.8079-264.6188       0.9365\n",
       "27   1577.9821       6     34264332   264.1714  263.8079-264.9567       0.9728\n",
       "28   1319.8960       5     25856008   265.1870  264.8825-265.9006       0.9401\n",
       "29   1058.5697       4    104538624   265.6497  265.4878-266.5143       0.9981\n",
       "30   1589.8552       6     36592392   266.1502  265.8625-266.9364       0.9702\n",
       "31   1063.2612       4     23573842   267.0733  266.6806-267.7584       0.9273\n",
       "32    266.1747       1     21003058   267.1819  267.0733-269.3201       0.9785\n",
       "33    267.0859       1     64913196   268.0932  267.9832-270.3104       0.9891\n",
       "34   1068.5562       4     22568870   268.1463  268.0428-269.0434       0.9674\n",
       "35   1607.7396       6     26092912   268.9639  268.7956-269.9211       0.9944\n",
       "36    268.1539       1    126371272   269.1612  269.0434-271.2708       0.9999\n",
       "37   1344.4573       5     25304142   269.8987  269.7829-270.8879       0.9998\n",
       "38   1080.0868       4     24207478   271.0290  270.8909-271.9078       0.9990\n",
       "39    810.4751       3     79524328   271.1656  271.0315-272.3166       0.9977\n",
       "40    271.1536       1    228070464   272.1609  272.0521-274.3150       1.0000"
      ]
     },
     "execution_count": 168,
     "metadata": {},
     "output_type": "execute_result"
    }
   ],
   "source": [
    "CAHSingle.Clusters.head(40)"
   ]
  },
  {
   "cell_type": "code",
   "execution_count": 169,
   "id": "dc795a7f",
   "metadata": {},
   "outputs": [
    {
     "data": {
      "text/html": [
       "<div>\n",
       "<style scoped>\n",
       "    .dataframe tbody tr th:only-of-type {\n",
       "        vertical-align: middle;\n",
       "    }\n",
       "\n",
       "    .dataframe tbody tr th {\n",
       "        vertical-align: top;\n",
       "    }\n",
       "\n",
       "    .dataframe thead th {\n",
       "        text-align: right;\n",
       "    }\n",
       "</style>\n",
       "<table border=\"1\" class=\"dataframe\">\n",
       "  <thead>\n",
       "    <tr style=\"text-align: right;\">\n",
       "      <th></th>\n",
       "      <th>Mass</th>\n",
       "      <th>Charge</th>\n",
       "      <th>Abundance</th>\n",
       "      <th>Base Peak</th>\n",
       "      <th>Interval</th>\n",
       "      <th>Correlation</th>\n",
       "    </tr>\n",
       "  </thead>\n",
       "  <tbody>\n",
       "    <tr>\n",
       "      <th>0</th>\n",
       "      <td>1744.3646</td>\n",
       "      <td>7</td>\n",
       "      <td>27347360</td>\n",
       "      <td>250.2023</td>\n",
       "      <td>250.0336-251.0540</td>\n",
       "      <td>0.9270</td>\n",
       "    </tr>\n",
       "    <tr>\n",
       "      <th>1</th>\n",
       "      <td>250.0959</td>\n",
       "      <td>1</td>\n",
       "      <td>143416720</td>\n",
       "      <td>251.1032</td>\n",
       "      <td>250.9725-253.2930</td>\n",
       "      <td>0.9993</td>\n",
       "    </tr>\n",
       "    <tr>\n",
       "      <th>2</th>\n",
       "      <td>250.1435</td>\n",
       "      <td>1</td>\n",
       "      <td>109707600</td>\n",
       "      <td>251.1508</td>\n",
       "      <td>250.9725-253.2930</td>\n",
       "      <td>0.9997</td>\n",
       "    </tr>\n",
       "    <tr>\n",
       "      <th>3</th>\n",
       "      <td>251.1275</td>\n",
       "      <td>1</td>\n",
       "      <td>50028624</td>\n",
       "      <td>252.1348</td>\n",
       "      <td>252.0274-254.2632</td>\n",
       "      <td>0.9915</td>\n",
       "    </tr>\n",
       "    <tr>\n",
       "      <th>4</th>\n",
       "      <td>2514.4808</td>\n",
       "      <td>10</td>\n",
       "      <td>31059504</td>\n",
       "      <td>252.6559</td>\n",
       "      <td>252.3436-253.1664</td>\n",
       "      <td>0.9867</td>\n",
       "    </tr>\n",
       "    <tr>\n",
       "      <th>...</th>\n",
       "      <td>...</td>\n",
       "      <td>...</td>\n",
       "      <td>...</td>\n",
       "      <td>...</td>\n",
       "      <td>...</td>\n",
       "      <td>...</td>\n",
       "    </tr>\n",
       "    <tr>\n",
       "      <th>2318</th>\n",
       "      <td>2391.4356</td>\n",
       "      <td>1</td>\n",
       "      <td>28518742</td>\n",
       "      <td>2393.4456</td>\n",
       "      <td>2392.1787-2398.7551</td>\n",
       "      <td>0.9569</td>\n",
       "    </tr>\n",
       "    <tr>\n",
       "      <th>2319</th>\n",
       "      <td>2417.1574</td>\n",
       "      <td>1</td>\n",
       "      <td>34875532</td>\n",
       "      <td>2418.1650</td>\n",
       "      <td>2417.1772-2424.3540</td>\n",
       "      <td>0.9866</td>\n",
       "    </tr>\n",
       "    <tr>\n",
       "      <th>2320</th>\n",
       "      <td>2439.5996</td>\n",
       "      <td>1</td>\n",
       "      <td>29419014</td>\n",
       "      <td>2442.6118</td>\n",
       "      <td>2440.4929-2446.8804</td>\n",
       "      <td>0.9428</td>\n",
       "    </tr>\n",
       "    <tr>\n",
       "      <th>2321</th>\n",
       "      <td>7324.7350</td>\n",
       "      <td>3</td>\n",
       "      <td>79166696</td>\n",
       "      <td>2443.9224</td>\n",
       "      <td>2442.1560-2446.8804</td>\n",
       "      <td>0.9366</td>\n",
       "    </tr>\n",
       "    <tr>\n",
       "      <th>2322</th>\n",
       "      <td>2456.4133</td>\n",
       "      <td>1</td>\n",
       "      <td>38580944</td>\n",
       "      <td>2459.4255</td>\n",
       "      <td>2456.4995-2464.2708</td>\n",
       "      <td>0.9664</td>\n",
       "    </tr>\n",
       "  </tbody>\n",
       "</table>\n",
       "<p>2321 rows × 6 columns</p>\n",
       "</div>"
      ],
      "text/plain": [
       "           Mass  Charge  Abundance  Base Peak             Interval  \\\n",
       "0     1744.3646       7   27347360   250.2023    250.0336-251.0540   \n",
       "1      250.0959       1  143416720   251.1032    250.9725-253.2930   \n",
       "2      250.1435       1  109707600   251.1508    250.9725-253.2930   \n",
       "3      251.1275       1   50028624   252.1348    252.0274-254.2632   \n",
       "4     2514.4808      10   31059504   252.6559    252.3436-253.1664   \n",
       "...         ...     ...        ...        ...                  ...   \n",
       "2318  2391.4356       1   28518742  2393.4456  2392.1787-2398.7551   \n",
       "2319  2417.1574       1   34875532  2418.1650  2417.1772-2424.3540   \n",
       "2320  2439.5996       1   29419014  2442.6118  2440.4929-2446.8804   \n",
       "2321  7324.7350       3   79166696  2443.9224  2442.1560-2446.8804   \n",
       "2322  2456.4133       1   38580944  2459.4255  2456.4995-2464.2708   \n",
       "\n",
       "      Correlation  \n",
       "0          0.9270  \n",
       "1          0.9993  \n",
       "2          0.9997  \n",
       "3          0.9915  \n",
       "4          0.9867  \n",
       "...           ...  \n",
       "2318       0.9569  \n",
       "2319       0.9866  \n",
       "2320       0.9428  \n",
       "2321       0.9366  \n",
       "2322       0.9664  \n",
       "\n",
       "[2321 rows x 6 columns]"
      ]
     },
     "execution_count": 169,
     "metadata": {},
     "output_type": "execute_result"
    }
   ],
   "source": [
    "CAHSingle.Clusters"
   ]
  },
  {
   "cell_type": "code",
   "execution_count": 163,
   "id": "49277815",
   "metadata": {},
   "outputs": [],
   "source": [
    "CAHSingle.PeakstoClusters()"
   ]
  },
  {
   "cell_type": "code",
   "execution_count": 164,
   "id": "c8048dc1",
   "metadata": {},
   "outputs": [],
   "source": [
    "CAHlr=LogisticReg(CAHSingle.RPeaks,NoMZ=True,FWHM=True)\n",
    "Y,Y_Distr=CAHlr.Apply(CAHSingle.RPeaks)"
   ]
  },
  {
   "cell_type": "code",
   "execution_count": 165,
   "id": "6a4ce61c",
   "metadata": {},
   "outputs": [
    {
     "name": "stdout",
     "output_type": "stream",
     "text": [
      "Charge \tPeaks \t Mean \t Variance\n",
      "1 \t10 \t 1.269 \t 0.180\n",
      "2 \t6 \t 1.552 \t 0.277\n",
      "7 \t2 \t 1.000 \t 0.000\n",
      "Resolution: 97.35\n"
     ]
    },
    {
     "name": "stderr",
     "output_type": "stream",
     "text": [
      "/opt/conda/lib/python3.8/site-packages/IPython/core/pylabtools.py:132: UserWarning: Creating legend with loc=\"best\" can be slow with large amounts of data.\n",
      "  fig.canvas.print_figure(bytes_io, **kw)\n"
     ]
    },
    {
     "data": {
      "image/png": "[encoded data removed]",
      "text/plain": [
       "<Figure size 576x360 with 1 Axes>"
      ]
     },
     "metadata": {
      "needs_background": "light"
     },
     "output_type": "display_data"
    }
   ],
   "source": [
    "ShowRes(Y,CAHSingle.RPeaks[\"Charge\"],MaxCharge=35,GaussianHeght=2)"
   ]
  },
  {
   "cell_type": "code",
   "execution_count": 166,
   "id": "1e76f2dc",
   "metadata": {},
   "outputs": [],
   "source": [
    "CAHSingle.peaks=CAHlr.Estimate(CAHSingle.peaks)"
   ]
  },
  {
   "cell_type": "code",
   "execution_count": 167,
   "id": "652cbad4",
   "metadata": {},
   "outputs": [
    {
     "name": "stdout",
     "output_type": "stream",
     "text": [
      "-4.25 38.25\n"
     ]
    },
    {
     "data": {
      "image/png": "[encoded data removed]",
      "text/plain": [
       "<Figure size 1296x432 with 2 Axes>"
      ]
     },
     "metadata": {
      "needs_background": "light"
     },
     "output_type": "display_data"
    }
   ],
   "source": [
    "CAHSingle.RainbowSpectrum(800,1400,CAHSingle.peaks,maxCharge=35,LabelThres=1.,svg=True,Name=\"Panel4-1\")"
   ]
  },
  {
   "cell_type": "code",
   "execution_count": 102,
   "id": "5442fbcc",
   "metadata": {},
   "outputs": [],
   "source": [
    "F4Peaks = UbiSpec.peaks[(UbiSpec.peaks[\"m/z\"]>851) & (UbiSpec.peaks[\"m/z\"]<854)]"
   ]
  },
  {
   "cell_type": "code",
   "execution_count": 103,
   "id": "01b2a6a6",
   "metadata": {},
   "outputs": [
    {
     "data": {
      "text/html": [
       "<div>\n",
       "<style scoped>\n",
       "    .dataframe tbody tr th:only-of-type {\n",
       "        vertical-align: middle;\n",
       "    }\n",
       "\n",
       "    .dataframe tbody tr th {\n",
       "        vertical-align: top;\n",
       "    }\n",
       "\n",
       "    .dataframe thead th {\n",
       "        text-align: right;\n",
       "    }\n",
       "</style>\n",
       "<table border=\"1\" class=\"dataframe\">\n",
       "  <thead>\n",
       "    <tr style=\"text-align: right;\">\n",
       "      <th></th>\n",
       "      <th>m/z</th>\n",
       "      <th>Intensity</th>\n",
       "      <th>resolution</th>\n",
       "      <th>issues</th>\n",
       "    </tr>\n",
       "  </thead>\n",
       "  <tbody>\n",
       "    <tr>\n",
       "      <th>16870</th>\n",
       "      <td>851.032754</td>\n",
       "      <td>9606249.0</td>\n",
       "      <td>55483.792969</td>\n",
       "      <td>False</td>\n",
       "    </tr>\n",
       "    <tr>\n",
       "      <th>16871</th>\n",
       "      <td>851.051289</td>\n",
       "      <td>52104052.0</td>\n",
       "      <td>139406.593750</td>\n",
       "      <td>False</td>\n",
       "    </tr>\n",
       "    <tr>\n",
       "      <th>16872</th>\n",
       "      <td>851.064619</td>\n",
       "      <td>18111110.0</td>\n",
       "      <td>155385.812500</td>\n",
       "      <td>False</td>\n",
       "    </tr>\n",
       "    <tr>\n",
       "      <th>16873</th>\n",
       "      <td>851.079168</td>\n",
       "      <td>12037622.0</td>\n",
       "      <td>112764.273438</td>\n",
       "      <td>False</td>\n",
       "    </tr>\n",
       "    <tr>\n",
       "      <th>16874</th>\n",
       "      <td>851.124609</td>\n",
       "      <td>13811067.0</td>\n",
       "      <td>93195.531250</td>\n",
       "      <td>False</td>\n",
       "    </tr>\n",
       "    <tr>\n",
       "      <th>...</th>\n",
       "      <td>...</td>\n",
       "      <td>...</td>\n",
       "      <td>...</td>\n",
       "      <td>...</td>\n",
       "    </tr>\n",
       "    <tr>\n",
       "      <th>17000</th>\n",
       "      <td>853.900485</td>\n",
       "      <td>8895056.0</td>\n",
       "      <td>129270.226562</td>\n",
       "      <td>True</td>\n",
       "    </tr>\n",
       "    <tr>\n",
       "      <th>17001</th>\n",
       "      <td>853.936833</td>\n",
       "      <td>41210568.0</td>\n",
       "      <td>150765.968750</td>\n",
       "      <td>True</td>\n",
       "    </tr>\n",
       "    <tr>\n",
       "      <th>17002</th>\n",
       "      <td>853.945083</td>\n",
       "      <td>11787639.0</td>\n",
       "      <td>138793.625000</td>\n",
       "      <td>True</td>\n",
       "    </tr>\n",
       "    <tr>\n",
       "      <th>17003</th>\n",
       "      <td>853.964019</td>\n",
       "      <td>34028276.0</td>\n",
       "      <td>83107.250000</td>\n",
       "      <td>False</td>\n",
       "    </tr>\n",
       "    <tr>\n",
       "      <th>17004</th>\n",
       "      <td>853.987639</td>\n",
       "      <td>17936218.0</td>\n",
       "      <td>129813.921875</td>\n",
       "      <td>False</td>\n",
       "    </tr>\n",
       "  </tbody>\n",
       "</table>\n",
       "<p>135 rows × 4 columns</p>\n",
       "</div>"
      ],
      "text/plain": [
       "              m/z   Intensity     resolution  issues\n",
       "16870  851.032754   9606249.0   55483.792969   False\n",
       "16871  851.051289  52104052.0  139406.593750   False\n",
       "16872  851.064619  18111110.0  155385.812500   False\n",
       "16873  851.079168  12037622.0  112764.273438   False\n",
       "16874  851.124609  13811067.0   93195.531250   False\n",
       "...           ...         ...            ...     ...\n",
       "17000  853.900485   8895056.0  129270.226562    True\n",
       "17001  853.936833  41210568.0  150765.968750    True\n",
       "17002  853.945083  11787639.0  138793.625000    True\n",
       "17003  853.964019  34028276.0   83107.250000   False\n",
       "17004  853.987639  17936218.0  129813.921875   False\n",
       "\n",
       "[135 rows x 4 columns]"
      ]
     },
     "execution_count": 103,
     "metadata": {},
     "output_type": "execute_result"
    }
   ],
   "source": [
    "F4Peaks"
   ]
  },
  {
   "cell_type": "code",
   "execution_count": 104,
   "id": "b62c41db",
   "metadata": {
    "collapsed": true,
    "jupyter": {
     "outputs_hidden": true
    }
   },
   "outputs": [
    {
     "name": "stderr",
     "output_type": "stream",
     "text": [
      "C:\\Users\\yaros\\Anaconda3\\envs\\tf2\\lib\\site-packages\\ipykernel_launcher.py:4: SettingWithCopyWarning: \n",
      "A value is trying to be set on a copy of a slice from a DataFrame.\n",
      "Try using .loc[row_indexer,col_indexer] = value instead\n",
      "\n",
      "See the caveats in the documentation: http://pandas.pydata.org/pandas-docs/stable/user_guide/indexing.html#returning-a-view-versus-a-copy\n",
      "  after removing the cwd from sys.path.\n",
      "C:\\Users\\yaros\\Anaconda3\\envs\\tf2\\lib\\site-packages\\ipykernel_launcher.py:5: SettingWithCopyWarning: \n",
      "A value is trying to be set on a copy of a slice from a DataFrame.\n",
      "Try using .loc[row_indexer,col_indexer] = value instead\n",
      "\n",
      "See the caveats in the documentation: http://pandas.pydata.org/pandas-docs/stable/user_guide/indexing.html#returning-a-view-versus-a-copy\n",
      "  \"\"\"\n",
      "C:\\Users\\yaros\\Anaconda3\\envs\\tf2\\lib\\site-packages\\ipykernel_launcher.py:6: SettingWithCopyWarning: \n",
      "A value is trying to be set on a copy of a slice from a DataFrame.\n",
      "Try using .loc[row_indexer,col_indexer] = value instead\n",
      "\n",
      "See the caveats in the documentation: http://pandas.pydata.org/pandas-docs/stable/user_guide/indexing.html#returning-a-view-versus-a-copy\n",
      "  \n",
      "C:\\Users\\yaros\\Anaconda3\\envs\\tf2\\lib\\site-packages\\ipykernel_launcher.py:7: SettingWithCopyWarning: \n",
      "A value is trying to be set on a copy of a slice from a DataFrame.\n",
      "Try using .loc[row_indexer,col_indexer] = value instead\n",
      "\n",
      "See the caveats in the documentation: http://pandas.pydata.org/pandas-docs/stable/user_guide/indexing.html#returning-a-view-versus-a-copy\n",
      "  import sys\n",
      "C:\\Users\\yaros\\Anaconda3\\envs\\tf2\\lib\\site-packages\\ipykernel_launcher.py:2: SettingWithCopyWarning: \n",
      "A value is trying to be set on a copy of a slice from a DataFrame.\n",
      "Try using .loc[row_indexer,col_indexer] = value instead\n",
      "\n",
      "See the caveats in the documentation: http://pandas.pydata.org/pandas-docs/stable/user_guide/indexing.html#returning-a-view-versus-a-copy\n",
      "  \n",
      "C:\\Users\\yaros\\Anaconda3\\envs\\tf2\\lib\\site-packages\\ipykernel_launcher.py:3: SettingWithCopyWarning: \n",
      "A value is trying to be set on a copy of a slice from a DataFrame.\n",
      "Try using .loc[row_indexer,col_indexer] = value instead\n",
      "\n",
      "See the caveats in the documentation: http://pandas.pydata.org/pandas-docs/stable/user_guide/indexing.html#returning-a-view-versus-a-copy\n",
      "  This is separate from the ipykernel package so we can avoid doing imports until\n"
     ]
    },
    {
     "name": "stdout",
     "output_type": "stream",
     "text": [
      "0 LinregressResult(slope=-0.007203352284777431, intercept=2.079649822744295, rvalue=-0.002507792631379512, pvalue=0.8872324767669547, stderr=0.05079283310636913)\n",
      "1 LinregressResult(slope=-3.0365606867606636, intercept=5.330295114521262, rvalue=-0.8796345952783382, pvalue=0.0, stderr=0.029035411743292227)\n",
      "2 LinregressResult(slope=-2.437404857055463, intercept=4.656418892293926, rvalue=-0.8010475867915022, pvalue=0.0, stderr=0.03220826461782511)\n",
      "3 LinregressResult(slope=-1.470300614290852, intercept=3.311150160199077, rvalue=-0.5045658600772772, pvalue=2.5654794079145004e-206, stderr=0.04448848469046374)\n",
      "4 LinregressResult(slope=-1.9027669973227805, intercept=3.7561905936371263, rvalue=-0.7405969109401461, pvalue=0.0, stderr=0.03052819732432634)\n",
      "5 LinregressResult(slope=-1.322231598726283, intercept=2.9575898075327025, rvalue=-0.47716834660764207, pvalue=1.1208032008749225e-181, stderr=0.043061842505851766)\n",
      "6 LinregressResult(slope=0.14746896184520542, intercept=1.7811004505915626, rvalue=0.06286859938615555, pvalue=0.00037295614505895055, stderr=0.0413968829668401)\n",
      "7 LinregressResult(slope=-1.6072191789126153, intercept=3.0893954851784344, rvalue=-0.752355385767428, pvalue=0.0, stderr=0.024885042099576263)\n",
      "8 LinregressResult(slope=-2.3112000967538844, intercept=3.5103750455993863, rvalue=-0.6183528189375873, pvalue=0.0, stderr=0.0519433082354994)\n",
      "9 LinregressResult(slope=-2.852771248604393, intercept=3.96952295393414, rvalue=-0.8693021640492885, pvalue=0.0, stderr=0.028683418611082177)\n",
      "10 LinregressResult(slope=-2.0926273925696823, intercept=4.2264819835738585, rvalue=-0.641380280229913, pvalue=0.0, stderr=0.044264826096439135)\n",
      "11 LinregressResult(slope=-3.3173555085668043, intercept=5.517074964200573, rvalue=-0.8808244162334385, pvalue=0.0, stderr=0.03153052574738117)\n",
      "12 LinregressResult(slope=-2.184992947508759, intercept=4.4928684992242705, rvalue=-0.7830203296883325, pvalue=0.0, stderr=0.030692017837730137)\n",
      "13 LinregressResult(slope=-2.8502285347573166, intercept=5.24474008238097, rvalue=-0.7889096015547024, pvalue=0.0, stderr=0.039259218440275905)\n",
      "14 LinregressResult(slope=-2.355276525798178, intercept=4.607380099145824, rvalue=-0.7985698527037118, pvalue=0.0, stderr=0.03139175910622533)\n",
      "15 LinregressResult(slope=-1.108348351946943, intercept=3.345445741263688, rvalue=-0.3982584515629632, pvalue=4.1640035717349134e-122, stderr=0.04514095839489988)\n",
      "16 LinregressResult(slope=-1.022230079097437, intercept=2.9515147592415056, rvalue=-0.44339322168268963, pvalue=3.0919718244382916e-154, stderr=0.036541548963198604)\n",
      "17 LinregressResult(slope=-0.8537298477245912, intercept=2.881991255671237, rvalue=-0.30802257178989917, pvalue=2.7186841034698784e-71, stderr=0.046628589281370175)\n",
      "18 LinregressResult(slope=-1.4640279562037637, intercept=3.224283857041552, rvalue=-0.5947850718628378, pvalue=1.5297791180470619e-305, stderr=0.034989994909990774)\n",
      "19 LinregressResult(slope=-1.767271432081575, intercept=2.9371916363640964, rvalue=-0.611411576632133, pvalue=0.0, stderr=0.0404462757756517)\n",
      "20 LinregressResult(slope=-1.1245099547246193, intercept=5.527089142480635, rvalue=-0.9071508381450113, pvalue=0.0, stderr=0.00922414420683927)\n",
      "21 LinregressResult(slope=-2.7253207356661813, intercept=8.083825236345605, rvalue=-0.9979193707385134, pvalue=0.0, stderr=0.0031136462369509466)\n",
      "22 LinregressResult(slope=-2.7280354555871313, intercept=8.133054580425254, rvalue=-0.9892392712548917, pvalue=0.0, stderr=0.007134668284265721)\n",
      "23 LinregressResult(slope=-1.829167062793299, intercept=3.5532925718200756, rvalue=-0.5789292845570471, pvalue=8.169651931401613e-286, stderr=0.04555619920911099)\n",
      "24 LinregressResult(slope=-0.1364375283348538, intercept=2.368577595419952, rvalue=-0.054322226177953764, pvalue=0.0021121059077196446, stderr=0.044348131443848506)\n",
      "25 LinregressResult(slope=-1.4127388438401334, intercept=3.0248628092455094, rvalue=-0.5978107577618, pvalue=1.967745282654373e-309, stderr=0.033499384382612504)\n",
      "26 LinregressResult(slope=-1.327677563679167, intercept=2.880601906355899, rvalue=-0.4944056853632387, pvalue=6.453610700303212e-197, stderr=0.04127672925105788)\n",
      "27 LinregressResult(slope=-0.24409163326063316, intercept=3.0069298713612285, rvalue=-0.10528642041696619, pvalue=2.370038374004343e-09, stderr=0.04076812469639976)\n",
      "28 LinregressResult(slope=-2.216058876618025, intercept=4.973979705262826, rvalue=-0.7118987949697282, pvalue=0.0, stderr=0.03865764447196017)\n",
      "29 LinregressResult(slope=-2.9056275037644146, intercept=5.494914038911887, rvalue=-0.9597195507436005, pvalue=0.0, stderr=0.015041823261703646)\n",
      "30 LinregressResult(slope=-2.48847745657718, intercept=7.3095568734659215, rvalue=-0.8232041259338075, pvalue=0.0, stderr=0.030348739151037227)\n",
      "31 LinregressResult(slope=-2.274090609256366, intercept=8.783959218583645, rvalue=-0.9999142686863061, pvalue=0.0, stderr=0.0005266004163270835)\n",
      "32 LinregressResult(slope=-2.6008461223292785, intercept=5.724032197124072, rvalue=-0.7827715416018071, pvalue=0.0, stderr=0.036563402797972364)\n",
      "33 LinregressResult(slope=-2.799034076770878, intercept=5.24567675094095, rvalue=-0.7826615756167068, pvalue=0.0, stderr=0.03936385760867025)\n",
      "34 LinregressResult(slope=-2.318085660949101, intercept=5.822042701986821, rvalue=-0.9851230625603667, pvalue=0.0, stderr=0.007150727862278607)\n",
      "35 LinregressResult(slope=0.3276282727334306, intercept=2.3679744159829856, rvalue=0.11490128794354475, pvalue=7.084423314881254e-11, stderr=0.050087725272121394)\n",
      "36 LinregressResult(slope=1.249052133746414, intercept=1.68880203355083, rvalue=0.4175017586301101, pvalue=3.315199292884165e-135, stderr=0.04807199426203832)\n",
      "37 LinregressResult(slope=1.3350251972859166, intercept=1.4501002807661316, rvalue=0.3478832025610689, pvalue=1.0649094758965873e-91, stderr=0.06362174806566741)\n",
      "38 LinregressResult(slope=-0.708567386202743, intercept=3.0732410382371986, rvalue=-0.33517639069459354, pvalue=7.362198358305455e-85, stderr=0.03522013758454634)\n",
      "39 LinregressResult(slope=0.2934674229621164, intercept=2.1773040380709925, rvalue=0.08840713750886046, pvalue=5.473663363516152e-07, stderr=0.058469514581688135)\n",
      "40 LinregressResult(slope=-2.316872920126648, intercept=5.227199893511262, rvalue=-0.728457731534611, pvalue=0.0, stderr=0.03853068494837776)\n",
      "41 LinregressResult(slope=-2.7245351341756368, intercept=6.1894483585404565, rvalue=-0.9764630138165505, pvalue=0.0, stderr=0.010641850589562036)\n",
      "42 LinregressResult(slope=-2.392199871278569, intercept=8.822464579969818, rvalue=-0.8861347026418775, pvalue=0.0, stderr=0.022122822430094974)\n",
      "43 LinregressResult(slope=-2.3438304707240287, intercept=8.94618080100986, rvalue=-0.999758089035847, pvalue=0.0, stderr=0.0009118188095401691)\n",
      "44 LinregressResult(slope=0.016490099309321098, intercept=2.4682949006906085, rvalue=0.008783694034995274, pvalue=0.6194032875562168, stderr=0.03319633110822912)\n",
      "45 LinregressResult(slope=-0.507936970578104, intercept=2.523942841012951, rvalue=-0.20759198257471595, pvalue=1.733625837089673e-32, stderr=0.042324765359677774)\n",
      "46 LinregressResult(slope=-2.107748333557439, intercept=6.2171607437446665, rvalue=-0.9301442333370447, pvalue=0.0, stderr=0.01471381328040984)\n",
      "47 LinregressResult(slope=-2.40349202972925, intercept=6.333546489301938, rvalue=-0.8597869301173263, pvalue=0.0, stderr=0.025242854398764687)\n",
      "48 LinregressResult(slope=-2.407092465333286, intercept=3.7045960712274972, rvalue=-0.7675951352050782, pvalue=0.0, stderr=0.03554146590190176)\n",
      "49 LinregressResult(slope=-1.9083257144814136, intercept=3.7076631385039054, rvalue=-0.5426394352762961, pvalue=1.596391240513061e-244, stderr=0.052235227793482046)\n",
      "50 LinregressResult(slope=-2.5995641222959316, intercept=4.529411010019351, rvalue=-0.7597580087531094, pvalue=0.0, stderr=0.03934023524871768)\n",
      "51 LinregressResult(slope=-2.499588244864542, intercept=8.810586389640498, rvalue=-0.9999418949701889, pvalue=0.0, stderr=0.0004765078203062654)\n",
      "52 LinregressResult(slope=-0.746064341208565, intercept=2.7319692023191373, rvalue=-0.5541012536084229, pvalue=5.125731102756071e-257, stderr=0.019820093625020088)\n",
      "53 LinregressResult(slope=-3.403679193701962, intercept=6.960567739545976, rvalue=-0.9894374144803917, pvalue=0.0, stderr=0.008818024907529476)\n",
      "54 LinregressResult(slope=-0.5009547410439995, intercept=2.6723005654524776, rvalue=-0.22241892211220332, pvalue=3.68939976991737e-37, stderr=0.03883026938183748)\n",
      "55 LinregressResult(slope=0.8544748552777338, intercept=1.685661961495318, rvalue=0.3157183204139738, pvalue=5.383781311004638e-75, stderr=0.04541080399266304)\n",
      "56 LinregressResult(slope=-0.4292994873716532, intercept=2.6010351252665878, rvalue=-0.28235540369396545, pvalue=1.003969811164612e-59, stderr=0.025791936398156887)\n",
      "57 LinregressResult(slope=-2.4306190138258668, intercept=5.342681265931379, rvalue=-0.9730055268714434, pvalue=0.0, stderr=0.01019445311055098)\n",
      "58 LinregressResult(slope=-2.424025628969112, intercept=5.378844874810506, rvalue=-0.9323262466462783, pvalue=0.0, stderr=0.016625718600684822)\n",
      "59 LinregressResult(slope=-1.6618527109658214, intercept=3.349965291795832, rvalue=-0.4221625416955125, pvalue=1.6462361058861748e-138, stderr=0.0631031541879242)\n",
      "60 LinregressResult(slope=-2.594523324516329, intercept=8.076845250495696, rvalue=-0.8900642082105447, pvalue=0.0, stderr=0.023496590372537592)\n",
      "61 LinregressResult(slope=-2.791393932130011, intercept=8.422395164813105, rvalue=-0.9996177751999213, pvalue=0.0, stderr=0.0013651515158979426)\n",
      "62 LinregressResult(slope=-3.07706407226938, intercept=6.3353780654641465, rvalue=-0.9960370399766209, pvalue=0.0, stderr=0.00485865390854661)\n",
      "63 LinregressResult(slope=-1.9020162832176009, intercept=4.840662289309741, rvalue=-0.9621329834004352, pvalue=0.0, stderr=0.009528722116154248)\n",
      "64 LinregressResult(slope=-1.3020651930620468, intercept=2.998055655126686, rvalue=-0.4841980819178168, pvalue=8.704363557990226e-188, stderr=0.041606180077520614)\n",
      "65 LinregressResult(slope=-1.688769331882275, intercept=5.447192202145009, rvalue=-0.5290599263449668, pvalue=2.4687070434357346e-230, stderr=0.047898433879191744)\n",
      "66 LinregressResult(slope=-3.1709935425141254, intercept=7.910292941663744, rvalue=-0.9859443871206048, pvalue=0.0, stderr=0.009501936941472963)\n",
      "67 LinregressResult(slope=-3.2793676367153535, intercept=7.959416633452912, rvalue=-0.9937050097395265, pvalue=0.0, stderr=0.006537645668653746)\n",
      "68 LinregressResult(slope=-1.7274369316971079, intercept=5.295674057685309, rvalue=-0.8682460052543316, pvalue=0.0, stderr=0.01745496988484009)\n",
      "69 LinregressResult(slope=-0.027813949503349693, intercept=2.2044645150804745, rvalue=-0.013366863902323172, pvalue=0.44971973501079066, stderr=0.03679214465770025)\n",
      "70 LinregressResult(slope=-1.0742262609194406, intercept=2.786705817671443, rvalue=-0.40389926658338343, pvalue=7.392819108299697e-126, stderr=0.043024048305120265)\n",
      "71 LinregressResult(slope=0.08882917025997891, intercept=1.7551415275804327, rvalue=0.038533924801334565, pvalue=0.02927482198625945, stderr=0.04073338073844673)\n",
      "72 LinregressResult(slope=-3.7433100371205317, intercept=5.38319936802069, rvalue=-0.9481688181357857, pvalue=0.0, stderr=0.02218399455904159)\n",
      "73 LinregressResult(slope=-0.31290720700630525, intercept=2.4806527127422204, rvalue=-0.19499544616681094, pvalue=8.634743312486515e-29, stderr=0.027831342824085482)\n",
      "74 LinregressResult(slope=-3.9053742233014113, intercept=7.359748497716216, rvalue=-0.9774255302334535, pvalue=0.0, stderr=0.014927895796177619)\n",
      "75 LinregressResult(slope=-0.25306371823925716, intercept=2.394008644317462, rvalue=-0.12142815169366865, pvalue=5.507321998664136e-12, stderr=0.03658016324914211)\n",
      "76 LinregressResult(slope=-2.2481627763936625, intercept=3.9271383608562345, rvalue=-0.6768923743132943, pvalue=0.0, stderr=0.04323098197250067)\n",
      "77 LinregressResult(slope=-2.2446172504412223, intercept=4.1790747615931405, rvalue=-0.7473200775777878, pvalue=0.0, stderr=0.03529132933003178)\n",
      "78 LinregressResult(slope=-2.805575233840992, intercept=4.158693620793294, rvalue=-0.769471550162124, pvalue=0.0, stderr=0.04117884672685954)\n",
      "79 LinregressResult(slope=-0.3615127731671777, intercept=2.16091492380377, rvalue=-0.08847863710229949, pvalue=5.359184635717677e-07, stderr=0.07196798998207854)\n",
      "80 LinregressResult(slope=-1.6722504102741411, intercept=3.447183861761612, rvalue=-0.69442079609818, pvalue=0.0, stderr=0.03064163233233832)\n",
      "81 LinregressResult(slope=-0.8532546245550505, intercept=2.8304476411733988, rvalue=-0.3092706585122151, pvalue=6.938425852121938e-72, stderr=0.04639480695716995)\n",
      "82 LinregressResult(slope=-1.5697673583795433, intercept=3.0287704677099008, rvalue=-0.4172430522871787, pvalue=5.039402147143333e-135, stderr=0.060460655164533465)\n",
      "83 LinregressResult(slope=-4.984598011818831, intercept=6.710320970663287, rvalue=-0.9474944777926128, pvalue=0.0, stderr=0.029747798514075583)\n",
      "84 LinregressResult(slope=-4.619646569132993, intercept=6.53594917788304, rvalue=-0.9301693236760687, pvalue=0.0, stderr=0.032242472415870894)\n",
      "85 LinregressResult(slope=-2.5724354504185842, intercept=4.7585126097838595, rvalue=-0.7925305419953745, pvalue=0.0, stderr=0.0350025445239321)\n",
      "86 LinregressResult(slope=-1.8572189702196957, intercept=3.9796617616630856, rvalue=-0.6404345294846988, pvalue=0.0, stderr=0.03938379687612273)\n",
      "87 LinregressResult(slope=-1.7125470010007087, intercept=4.0618104091330425, rvalue=-0.5178058781447954, pvalue=4.6937475136019946e-219, stderr=0.05003286412865676)\n",
      "88 LinregressResult(slope=-1.2897607289732607, intercept=3.7639986733383077, rvalue=-0.354636395421344, pvalue=1.8224391337454928e-95, stderr=0.06013124836392142)\n",
      "89 LinregressResult(slope=-0.8736559119287455, intercept=3.623746548604668, rvalue=-0.4541395305834025, pvalue=1.2371699677220673e-162, stderr=0.030307893063739596)\n",
      "90 LinregressResult(slope=-1.2127932411874858, intercept=4.954348923314103, rvalue=-0.9481482288864902, pvalue=0.0, stderr=0.007188927384209538)\n",
      "91 LinregressResult(slope=-1.2393449119229218, intercept=3.0090209009249325, rvalue=-0.5699367392301532, pvalue=4.237777166444866e-275, stderr=0.031596105350540554)\n",
      "92 LinregressResult(slope=-1.729461670706092, intercept=3.406456987708376, rvalue=-0.5082014775806925, pvalue=9.275256093832547e-210, stderr=0.05182735902873751)\n",
      "93 LinregressResult(slope=-2.1856436477926855, intercept=3.863433992116753, rvalue=-0.7381068516445645, pvalue=0.0, stderr=0.03532817415453049)\n",
      "94 LinregressResult(slope=-3.418175756560135, intercept=4.845622751324999, rvalue=-0.8625542549127952, pvalue=0.0, stderr=0.035455927785248205)\n",
      "95 LinregressResult(slope=-3.9121273845389655, intercept=5.414528575925874, rvalue=-0.9778308647195072, pvalue=0.0, stderr=0.014814226082477183)\n",
      "96 LinregressResult(slope=-3.401509835780388, intercept=4.569311516666412, rvalue=-0.8732632499623282, pvalue=0.0, stderr=0.033561240668844236)\n",
      "97 LinregressResult(slope=-0.8336951555662274, intercept=2.7639502379920935, rvalue=-0.30236018042378915, pvalue=1.2275351588230333e-68, stderr=0.04647556065316341)\n",
      "98 LinregressResult(slope=-2.149271529907381, intercept=3.5889885436042874, rvalue=-0.7672677236308484, pvalue=0.0, stderr=0.031767614835910396)\n",
      "99 LinregressResult(slope=0.02611557139540896, intercept=2.0686218358651423, rvalue=0.013125340038485587, pvalue=0.4579520896621778, stderr=0.03518133595287062)\n",
      "100 LinregressResult(slope=-0.6573345807719683, intercept=2.728188815654296, rvalue=-0.3055542635486086, pvalue=3.9703287233638243e-70, stderr=0.036222258365140925)\n",
      "101 LinregressResult(slope=-1.4882160693622761, intercept=3.7675239581310294, rvalue=-0.6467062152016199, pvalue=0.0, stderr=0.031038147034126537)\n",
      "102 LinregressResult(slope=-0.8848814668287758, intercept=2.763009915843889, rvalue=-0.5004734454296469, pvalue=1.713657822721022e-202, stderr=0.027068131474961288)\n",
      "103 LinregressResult(slope=-0.9883600845253016, intercept=2.9751720756251463, rvalue=-0.428834248519461, pvalue=2.4845554671510352e-143, stderr=0.03681785731643081)\n",
      "104 LinregressResult(slope=-1.2015739345656933, intercept=2.7901089045628558, rvalue=-0.596467601981739, pvalue=1.0622448044037082e-307, stderr=0.028591942951471314)\n",
      "105 LinregressResult(slope=-1.60598002123901, intercept=5.035335431749336, rvalue=-0.9484586015617451, pvalue=0.0, stderr=0.009488689150608656)\n",
      "106 LinregressResult(slope=-1.3088590521523213, intercept=4.797777245239095, rvalue=-0.9560465583345298, pvalue=0.0, stderr=0.007098402905258603)\n",
      "107 LinregressResult(slope=-1.30479774107248, intercept=3.887015105936279, rvalue=-0.6444843997189551, pvalue=0.0, stderr=0.027373842704578523)\n",
      "108 LinregressResult(slope=-1.8181808463320261, intercept=4.001209436247773, rvalue=-0.6028632213399103, pvalue=5.05464106e-316, stderr=0.04254978256689408)\n",
      "109 LinregressResult(slope=-0.3303445162666695, intercept=3.541533842798308, rvalue=-0.1664752817534332, pvalue=2.54755472032033e-21, stderr=0.03459992245373485)\n",
      "110 LinregressResult(slope=-2.0738339914906025, intercept=5.009024025423573, rvalue=-0.5597973892492205, pvalue=2.078275880726867e-263, stderr=0.05428305628938818)\n",
      "111 LinregressResult(slope=-2.747480451762057, intercept=5.41161867367994, rvalue=-0.7884144531681359, pvalue=0.0, stderr=0.037906866770201005)\n",
      "112 LinregressResult(slope=-2.2229808107730156, intercept=4.659303529432332, rvalue=-0.6605272039813962, pvalue=0.0, stderr=0.044681861845324695)\n",
      "113 LinregressResult(slope=-0.8459740330506994, intercept=3.772196085472122, rvalue=-0.25823509679076617, pvalue=6.4634692699770435e-50, stderr=0.055965008477906655)\n",
      "114 LinregressResult(slope=-1.7142916633676875, intercept=5.077713355352736, rvalue=-0.9711939785675305, pvalue=0.0, stderr=0.007437822741411242)\n",
      "115 LinregressResult(slope=-1.2495163669481273, intercept=3.1469322311292958, rvalue=-0.5137228174064482, pvalue=4.569080322106499e-215, stderr=0.03690107246689011)\n",
      "116 LinregressResult(slope=-0.7555649426108731, intercept=3.01206579513652, rvalue=-0.26809413835728774, pvalue=8.367394809287545e-54, stderr=0.04801186881640144)\n",
      "117 LinregressResult(slope=-1.1244901916693795, intercept=3.2065960831378075, rvalue=-0.30344395620383113, pvalue=3.850311553628982e-69, stderr=0.062439894958273255)\n",
      "118 LinregressResult(slope=-0.7115553348936003, intercept=2.974837524646316, rvalue=-0.30923007925054075, pvalue=7.254205958983496e-72, stderr=0.038695673861960954)\n",
      "119 LinregressResult(slope=-0.7836285775571717, intercept=2.9546185167902395, rvalue=-0.2784758504509828, pvalue=4.441985095587694e-58, stderr=0.04779199911082348)\n",
      "120 LinregressResult(slope=-0.7329348202844441, intercept=2.7420513985664448, rvalue=-0.24236196299913929, pvalue=5.308973852714205e-44, stderr=0.0518819895381072)\n",
      "121 LinregressResult(slope=0.3902038150112912, intercept=2.453765389221579, rvalue=0.19575321815247163, pvalue=5.257866693328005e-29, stderr=0.03456677127844806)\n",
      "122 LinregressResult(slope=0.7669217406066926, intercept=2.153573449812484, rvalue=0.3412188180667408, pvalue=4.513218963467258e-88, stderr=0.037359345301673806)\n",
      "123 LinregressResult(slope=-0.7247621743374297, intercept=2.652932027115649, rvalue=-0.2444481656391391, pvalue=9.368089526328548e-45, stderr=0.050838185914118955)\n",
      "124 LinregressResult(slope=-0.034039373515799116, intercept=2.4034838320714145, rvalue=-0.013976916155017569, pvalue=0.42930384983446046, stderr=0.043061439528218684)\n",
      "125 LinregressResult(slope=-1.3219742959517298, intercept=3.0473819564244984, rvalue=-0.44085652800974545, pvalue=2.6844826629707465e-152, stderr=0.0475946901578583)\n",
      "126 LinregressResult(slope=-0.5403344865371336, intercept=2.6101932289931593, rvalue=-0.2259849327972936, pvalue=2.4600440383259013e-38, stderr=0.04118710310773581)\n",
      "127 LinregressResult(slope=0.13275690701127066, intercept=2.4817960461707935, rvalue=0.05569954324499977, pvalue=0.0016212406271998484, stderr=0.042081530703880564)\n",
      "128 LinregressResult(slope=-0.029204009431081073, intercept=2.715027796909362, rvalue=-0.009275430608494969, pvalue=0.59992812497799, stderr=0.05567375152488194)\n",
      "129 LinregressResult(slope=0.0968725999189637, intercept=2.4231726104788116, rvalue=0.05959103517810862, pvalue=0.0007444627290020795, stderr=0.028695137764903306)\n",
      "130 LinregressResult(slope=-0.05479275020361047, intercept=2.4157531574598248, rvalue=-0.020527318420688553, pvalue=0.24569513006800064, stderr=0.047191103385528926)\n",
      "131 LinregressResult(slope=-1.5814754886910838, intercept=4.284964532351843, rvalue=-0.8657766994448407, pvalue=0.0, stderr=0.016164457416948726)\n",
      "132 LinregressResult(slope=-1.286736991092479, intercept=4.033452937291577, rvalue=-0.630555987031669, pvalue=0.0, stderr=0.028007160300772257)\n",
      "133 LinregressResult(slope=-1.129632426136714, intercept=3.512774819764442, rvalue=-0.4061655585766579, pvalue=2.194420445330492e-127, stderr=0.04494131191419022)\n",
      "134 LinregressResult(slope=-2.4852708660752993, intercept=7.5948941411499185, rvalue=-0.784326776649565, pvalue=0.0, stderr=0.03475943976671467)\n"
     ]
    }
   ],
   "source": [
    "F4Peaks=UbiSpec.SRCalc(Peaks=F4Peaks)"
   ]
  },
  {
   "cell_type": "code",
   "execution_count": 105,
   "id": "7e50ef21",
   "metadata": {},
   "outputs": [
    {
     "name": "stderr",
     "output_type": "stream",
     "text": [
      "C:\\Users\\yaros\\Anaconda3\\envs\\tf2\\lib\\site-packages\\ipykernel_launcher.py:26: SettingWithCopyWarning: \n",
      "A value is trying to be set on a copy of a slice from a DataFrame.\n",
      "Try using .loc[row_indexer,col_indexer] = value instead\n",
      "\n",
      "See the caveats in the documentation: http://pandas.pydata.org/pandas-docs/stable/user_guide/indexing.html#returning-a-view-versus-a-copy\n",
      "C:\\Users\\yaros\\Anaconda3\\envs\\tf2\\lib\\site-packages\\ipykernel_launcher.py:27: SettingWithCopyWarning: \n",
      "A value is trying to be set on a copy of a slice from a DataFrame.\n",
      "Try using .loc[row_indexer,col_indexer] = value instead\n",
      "\n",
      "See the caveats in the documentation: http://pandas.pydata.org/pandas-docs/stable/user_guide/indexing.html#returning-a-view-versus-a-copy\n"
     ]
    }
   ],
   "source": [
    "F4Peaks=lr.Estimate(F4Peaks)"
   ]
  },
  {
   "cell_type": "code",
   "execution_count": 106,
   "id": "c23d0b1c",
   "metadata": {},
   "outputs": [
    {
     "name": "stdout",
     "output_type": "stream",
     "text": [
      "-0.875 7.875\n"
     ]
    },
    {
     "data": {
      "image/png": "[encoded data removed]",
      "text/plain": [
       "<Figure size 1296x432 with 2 Axes>"
      ]
     },
     "metadata": {
      "needs_background": "light"
     },
     "output_type": "display_data"
    }
   ],
   "source": [
    "UbiSpec.RainbowSpectrum(851,853.9,F4Peaks,LabelThres=0.1,Name=\"Panel4-2\",svg=True)"
   ]
  },
  {
   "cell_type": "code",
   "execution_count": 107,
   "id": "2065c9c5",
   "metadata": {},
   "outputs": [],
   "source": [
    "omega=50\n",
    "resolution=100\n",
    "tau=0.01\n",
    "s=np.arange(omega*resolution*2*np.pi)/resolution"
   ]
  },
  {
   "cell_type": "code",
   "execution_count": 108,
   "id": "fc499441",
   "metadata": {},
   "outputs": [
    {
     "data": {
      "image/png": "[encoded data removed]",
      "text/plain": [
       "<Figure size 432x288 with 1 Axes>"
      ]
     },
     "metadata": {
      "needs_background": "light"
     },
     "output_type": "display_data"
    }
   ],
   "source": [
    "plt.rcParams[\"figure.figsize\"] = (6,4)\n",
    "plt.ylim(top=1.5, bottom=-1.5)\n",
    "exp_sig1=np.cos(s)*np.exp(-(s*tau))\n",
    "exp_sig2=np.cos(s*1.03)*np.exp(-(s*tau))\n",
    "plt.plot(s,exp_sig1)\n",
    "plt.savefig(\"Panel4-3.svg\")"
   ]
  },
  {
   "cell_type": "code",
   "execution_count": 109,
   "id": "96b59f45",
   "metadata": {},
   "outputs": [
    {
     "data": {
      "image/png": "[encoded data removed]",
      "text/plain": [
       "<Figure size 432x288 with 1 Axes>"
      ]
     },
     "metadata": {
      "needs_background": "light"
     },
     "output_type": "display_data"
    }
   ],
   "source": [
    "plt.ylim(top=1.5, bottom=-1.5)\n",
    "plt.plot(s,exp_sig2*0.5,color=\"C2\")\n",
    "plt.savefig(\"Panel4-4.svg\")"
   ]
  },
  {
   "cell_type": "code",
   "execution_count": 110,
   "id": "6cdbdf8a",
   "metadata": {},
   "outputs": [
    {
     "data": {
      "image/png": "[encoded data removed]",
      "text/plain": [
       "<Figure size 432x288 with 1 Axes>"
      ]
     },
     "metadata": {
      "needs_background": "light"
     },
     "output_type": "display_data"
    }
   ],
   "source": [
    "plt.ylim(top=1.5, bottom=-1.5)\n",
    "plt.plot(s,exp_sig1,color=\"C0\")\n",
    "plt.plot(s,exp_sig2*0.5,color=\"C2\")\n",
    "plt.savefig(\"Panel4-5.svg\")"
   ]
  },
  {
   "cell_type": "code",
   "execution_count": 111,
   "id": "e3d2385c",
   "metadata": {},
   "outputs": [
    {
     "data": {
      "image/png": "[encoded data removed]",
      "text/plain": [
       "<Figure size 432x288 with 1 Axes>"
      ]
     },
     "metadata": {
      "needs_background": "light"
     },
     "output_type": "display_data"
    }
   ],
   "source": [
    "plt.ylim(top=2.0, bottom=-2.0)\n",
    "plt.plot(s,exp_sig1+exp_sig2*0.5,color=\"C1\")\n",
    "plt.savefig(\"Panel4-6.svg\")"
   ]
  },
  {
   "cell_type": "code",
   "execution_count": 112,
   "id": "644a38b6",
   "metadata": {},
   "outputs": [],
   "source": [
    "SimTransient,IsoDistr=IsoSim(\"C121H201N33O36S1\",4,4,1.7)"
   ]
  },
  {
   "cell_type": "code",
   "execution_count": 113,
   "id": "ddb4c94e",
   "metadata": {},
   "outputs": [
    {
     "data": {
      "image/png": "[encoded data removed]",
      "text/plain": [
       "<Figure size 432x288 with 1 Axes>"
      ]
     },
     "metadata": {
      "needs_background": "light"
     },
     "output_type": "display_data"
    }
   ],
   "source": [
    "fig, ax = plt.subplots()\n",
    "ax.set_xlabel(\"time, s.\")\n",
    "ax.set_ylabel(\"Abundance, arb. units\")\n",
    "ax.spines[\"top\"].set_visible(False)\n",
    "ax.spines[\"right\"].set_visible(False)        \n",
    "plt.plot(np.arange(6000000)/4000000.0,SimTransient)\n",
    "plt.savefig(\"Panel4-7.svg\")  "
   ]
  },
  {
   "cell_type": "code",
   "execution_count": 114,
   "id": "3cd8512a",
   "metadata": {},
   "outputs": [],
   "source": [
    "IsoDistr[\"Abu\"]=100.*(IsoDistr[\"Prob\"]/np.sum(IsoDistr[\"Prob\"]))"
   ]
  },
  {
   "cell_type": "code",
   "execution_count": 115,
   "id": "fde7df70",
   "metadata": {},
   "outputs": [
    {
     "name": "stderr",
     "output_type": "stream",
     "text": [
      "C:\\Users\\yaros\\Anaconda3\\envs\\tf2\\lib\\site-packages\\ipykernel_launcher.py:10: UserWarning: In Matplotlib 3.3 individual lines on a stem plot will be added as a LineCollection instead of individual lines. This significantly improves the performance of a stem plot. To remove this warning and switch to the new behaviour, set the \"use_line_collection\" keyword argument to True.\n",
      "  # Remove the CWD from sys.path while we load stuff.\n"
     ]
    },
    {
     "data": {
      "image/png": "[encoded data removed]",
      "text/plain": [
       "<Figure size 432x288 with 1 Axes>"
      ]
     },
     "metadata": {
      "needs_background": "light"
     },
     "output_type": "display_data"
    }
   ],
   "source": [
    "fig, ax = plt.subplots()\n",
    "ax.set_xlabel(\"m/z\")\n",
    "ax.set_ylabel(\"Abundance, %\")\n",
    "ax.xaxis.set_major_formatter(ticker.FormatStrFormatter('%0.3f'))\n",
    "ax.locator_params(axis='x',nbins=5)\n",
    "ax.spines[\"top\"].set_visible(False)\n",
    "ax.spines[\"right\"].set_visible(False)        \n",
    "\n",
    "#ax.set_xlim(811.,813.3)\n",
    "ax.stem(IsoDistr[\"m/z\"],IsoDistr[\"Abu\"],\"C2\",markerfmt=\" \", basefmt=\"black\")\n",
    "plt.savefig(\"Panel4-8.svg\")"
   ]
  },
  {
   "cell_type": "code",
   "execution_count": 116,
   "id": "c0d778c0",
   "metadata": {},
   "outputs": [
    {
     "data": {
      "image/png": "[encoded data removed]",
      "text/plain": [
       "<Figure size 576x360 with 1 Axes>"
      ]
     },
     "metadata": {
      "needs_background": "light"
     },
     "output_type": "display_data"
    },
    {
     "data": {
      "text/plain": [
       "<module 'matplotlib.pyplot' from 'C:\\\\Users\\\\yaros\\\\Anaconda3\\\\envs\\\\tf2\\\\lib\\\\site-packages\\\\matplotlib\\\\pyplot.py'>"
      ]
     },
     "execution_count": 116,
     "metadata": {},
     "output_type": "execute_result"
    }
   ],
   "source": [
    "plt.rcParams[\"figure.figsize\"] = (8,5)\n",
    "UbiSpec.plotmasskai(682,684,fname=\"Panel4-9.svg\")"
   ]
  },
  {
   "cell_type": "code",
   "execution_count": 117,
   "id": "1e30d65c",
   "metadata": {},
   "outputs": [
    {
     "data": {
      "image/png": "[encoded data removed]",
      "text/plain": [
       "<Figure size 576x360 with 1 Axes>"
      ]
     },
     "metadata": {
      "needs_background": "light"
     },
     "output_type": "display_data"
    },
    {
     "data": {
      "text/plain": [
       "<module 'matplotlib.pyplot' from 'C:\\\\Users\\\\yaros\\\\Anaconda3\\\\envs\\\\tf2\\\\lib\\\\site-packages\\\\matplotlib\\\\pyplot.py'>"
      ]
     },
     "execution_count": 117,
     "metadata": {},
     "output_type": "execute_result"
    }
   ],
   "source": [
    "UbiSpec.plotmasskai(683.375,683.39)"
   ]
  },
  {
   "cell_type": "code",
   "execution_count": null,
   "id": "15a52fd4",
   "metadata": {},
   "outputs": [],
   "source": []
  },
  {
   "cell_type": "code",
   "execution_count": null,
   "id": "0174584a",
   "metadata": {},
   "outputs": [],
   "source": []
  }
 ],
 "metadata": {
  "kernelspec": {
   "display_name": "Python 3",
   "language": "python",
   "name": "python3"
  },
  "language_info": {
   "codemirror_mode": {
    "name": "ipython",
    "version": 3
   },
   "file_extension": ".py",
   "mimetype": "text/x-python",
   "name": "python",
   "nbconvert_exporter": "python",
   "pygments_lexer": "ipython3",
   "version": "3.8.1"
  }
 },
 "nbformat": 4,
 "nbformat_minor": 5
}
